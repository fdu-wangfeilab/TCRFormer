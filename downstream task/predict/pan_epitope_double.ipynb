{
 "cells": [
  {
   "cell_type": "code",
   "execution_count": null,
   "id": "2a64b412-ad3c-41e8-a3ee-dd1601db4020",
   "metadata": {},
   "outputs": [],
   "source": [
    "import os,sys\n",
    "b_directory = os.path.abspath(os.path.join(os.getcwd(), '..', 'model'))\n",
    "sys.path.insert(0, b_directory)\n",
    "from pan_epitope_double import *\n",
    "\n",
    "b_directory = os.path.abspath(os.path.join(os.getcwd(), '..', 'utils'))\n",
    "sys.path.insert(0, b_directory)\n",
    "from pan_epitope_double_util import predict\n"
   ]
  },
  {
   "cell_type": "code",
   "execution_count": null,
   "id": "0ca27bf8-aff7-4083-9020-9b89c3cb6ffe",
   "metadata": {},
   "outputs": [],
   "source": [
    "predict('HWFVTQRNFYEPQII','/mnt/sdb/tyh/result/dier/double/pt/')"
   ]
  },
  {
   "cell_type": "code",
   "execution_count": null,
   "id": "5d30e9a0-3f0c-4d4b-b725-7c61ce13f533",
   "metadata": {},
   "outputs": [],
   "source": []
  }
 ],
 "metadata": {
  "kernelspec": {
   "display_name": "sx",
   "language": "python",
   "name": "sx"
  },
  "language_info": {
   "codemirror_mode": {
    "name": "ipython",
    "version": 3
   },
   "file_extension": ".py",
   "mimetype": "text/x-python",
   "name": "python",
   "nbconvert_exporter": "python",
   "pygments_lexer": "ipython3",
   "version": "3.9.16"
  }
 },
 "nbformat": 4,
 "nbformat_minor": 5
}

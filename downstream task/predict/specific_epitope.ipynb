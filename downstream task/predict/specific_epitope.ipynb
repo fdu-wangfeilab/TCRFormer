{
 "cells": [
  {
   "cell_type": "code",
   "execution_count": 1,
   "id": "f16f587f-6b19-46b5-92dc-bf1a7b5e05b8",
   "metadata": {},
   "outputs": [],
   "source": [
    "import os,sys\n",
    "b_directory = os.path.abspath(os.path.join(os.getcwd(), '..', 'model'))\n",
    "sys.path.insert(0, b_directory)\n",
    "from specific_epitope import *\n",
    "\n",
    "b_directory = os.path.abspath(os.path.join(os.getcwd(), '..', 'utils'))\n",
    "sys.path.insert(0, b_directory)\n",
    "from specific_epitope_util import predict\n"
   ]
  },
  {
   "cell_type": "code",
   "execution_count": 2,
   "id": "fc871d0d-6343-4298-b647-ee8428ce2823",
   "metadata": {},
   "outputs": [
    {
     "name": "stdout",
     "output_type": "stream",
     "text": [
      "AUC-ROC: 0.95  AUC-PR: 0.8\n"
     ]
    }
   ],
   "source": [
    "predict('YVLTWIVGA','/mnt/sdb/tyh/result/diyi/pt/')"
   ]
  }
 ],
 "metadata": {
  "kernelspec": {
   "display_name": "sx",
   "language": "python",
   "name": "sx"
  },
  "language_info": {
   "codemirror_mode": {
    "name": "ipython",
    "version": 3
   },
   "file_extension": ".py",
   "mimetype": "text/x-python",
   "name": "python",
   "nbconvert_exporter": "python",
   "pygments_lexer": "ipython3",
   "version": "3.9.16"
  }
 },
 "nbformat": 4,
 "nbformat_minor": 5
}

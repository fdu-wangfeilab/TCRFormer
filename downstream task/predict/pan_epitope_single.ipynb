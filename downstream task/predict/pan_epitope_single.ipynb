{
 "cells": [
  {
   "cell_type": "code",
   "execution_count": null,
   "id": "309f0b7a-e900-44d4-9e2a-bb3263c75197",
   "metadata": {},
   "outputs": [],
   "source": [
    "import os,sys\n",
    "b_directory = os.path.abspath(os.path.join(os.getcwd(), '..', 'model'))\n",
    "sys.path.insert(0, b_directory)\n",
    "from pan_epitope_single import *\n",
    "\n",
    "b_directory = os.path.abspath(os.path.join(os.getcwd(), '..', 'utils'))\n",
    "sys.path.insert(0, b_directory)\n",
    "from pan_epitope_single_util import predict\n"
   ]
  },
  {
   "cell_type": "code",
   "execution_count": null,
   "id": "91e5e022-ac44-4ed0-83f6-3fc7f76aa2e6",
   "metadata": {},
   "outputs": [],
   "source": [
    "predict('YVLTWIVGA','/mnt/sdb/tyh/result/dier/pt/')"
   ]
  },
  {
   "cell_type": "code",
   "execution_count": null,
   "id": "5266168b-7b33-4b79-9479-7d8b108fda32",
   "metadata": {},
   "outputs": [],
   "source": [
    "predict('HWFVTQRNFYEPQII','/mnt/sdb/tyh/result/dier/double/pt/',datatype='singleindouble')"
   ]
  },
  {
   "cell_type": "code",
   "execution_count": null,
   "id": "4a9ae104-45c6-4ec2-a0c3-15dc59409bd1",
   "metadata": {},
   "outputs": [],
   "source": []
  }
 ],
 "metadata": {
  "kernelspec": {
   "display_name": "sx",
   "language": "python",
   "name": "sx"
  },
  "language_info": {
   "codemirror_mode": {
    "name": "ipython",
    "version": 3
   },
   "file_extension": ".py",
   "mimetype": "text/x-python",
   "name": "python",
   "nbconvert_exporter": "python",
   "pygments_lexer": "ipython3",
   "version": "3.9.16"
  }
 },
 "nbformat": 4,
 "nbformat_minor": 5
}

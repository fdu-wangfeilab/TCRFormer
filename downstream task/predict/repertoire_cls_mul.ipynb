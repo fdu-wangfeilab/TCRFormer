{
 "cells": [
  {
   "cell_type": "code",
   "execution_count": null,
   "id": "db0d7f37-9e5d-4ce8-ab0b-43d248c575fe",
   "metadata": {},
   "outputs": [],
   "source": [
    "from sklearn.metrics import roc_auc_score, accuracy_score, precision_score, recall_score, f1_score\n",
    "import numpy as np\n",
    "import os,sys\n",
    "b_directory = os.path.abspath(os.path.join(os.getcwd(), '..', 'model'))\n",
    "sys.path.insert(0, b_directory)\n",
    "from repertoire_cls_mul import *\n",
    "\n",
    "b_directory = os.path.abspath(os.path.join(os.getcwd(), '..', 'utils'))\n",
    "sys.path.insert(0, b_directory)\n",
    "from repertoire_cls_mul_util import *\n"
   ]
  },
  {
   "cell_type": "code",
   "execution_count": null,
   "id": "2ed5e3dc-9fa3-481c-9987-36e4e8afb643",
   "metadata": {},
   "outputs": [],
   "source": [
    "predict('mul_8','/mnt/sdb/tyh/result/disan/')"
   ]
  },
  {
   "cell_type": "code",
   "execution_count": null,
   "id": "7e48a32d-1d6a-4ab5-9d1b-fb9e9f7bae76",
   "metadata": {},
   "outputs": [],
   "source": []
  }
 ],
 "metadata": {
  "kernelspec": {
   "display_name": "sx",
   "language": "python",
   "name": "sx"
  },
  "language_info": {
   "codemirror_mode": {
    "name": "ipython",
    "version": 3
   },
   "file_extension": ".py",
   "mimetype": "text/x-python",
   "name": "python",
   "nbconvert_exporter": "python",
   "pygments_lexer": "ipython3",
   "version": "3.9.16"
  }
 },
 "nbformat": 4,
 "nbformat_minor": 5
}

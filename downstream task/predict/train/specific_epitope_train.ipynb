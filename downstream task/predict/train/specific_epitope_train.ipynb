{
 "cells": [
  {
   "cell_type": "code",
   "execution_count": 1,
   "id": "4675270c-87e4-49dd-94b2-44b518bb1015",
   "metadata": {},
   "outputs": [
    {
     "name": "stderr",
     "output_type": "stream",
     "text": [
      "/home/taoyuhao/anaconda3/envs/sx/lib/python3.9/site-packages/torchvision/io/image.py:13: UserWarning: Failed to load image Python extension: libtorch_cuda_cu.so: cannot open shared object file: No such file or directory\n",
      "  warn(f\"Failed to load image Python extension: {e}\")\n"
     ]
    }
   ],
   "source": [
    "import os,sys\n",
    "b_directory = os.path.abspath(os.path.join(os.getcwd(),'..', '..', 'model'))\n",
    "sys.path.insert(0, b_directory)\n",
    "from specific_epitope import *\n",
    "import numpy as np\n",
    "import pandas as pd\n",
    "import torch\n",
    "from torch import nn\n",
    "from torch.optim import Adam\n",
    "from torch.nn import functional as F\n",
    "from torch.utils.data import DataLoader, Dataset\n",
    "from timm.models.vision_transformer import Mlp\n",
    "from sklearn.metrics import (\n",
    "    average_precision_score,\n",
    "    roc_auc_score\n",
    ")"
   ]
  },
  {
   "cell_type": "code",
   "execution_count": 2,
   "id": "f2900edd-2008-4aea-a2fd-abcdddaec787",
   "metadata": {},
   "outputs": [],
   "source": [
    "class sx_Dataset(Dataset):\n",
    "    def __init__(self,data1,data2,data3,data4,data5):\n",
    "        self.x1 = data1\n",
    "        self.x2 = data2\n",
    "        self.x3 = data3\n",
    "        self.x4 = data4\n",
    "        self.x5 = data5\n",
    "\n",
    "        self.len = data1.shape[0]\n",
    "        \n",
    "    def __getitem__(self, index):\n",
    "        return self.x1[index],self.x2[index],self.x3[index],self.x4[index],self.x5[index]\n",
    " \n",
    "    def __len__(self):\n",
    "        return self.len"
   ]
  },
  {
   "cell_type": "code",
   "execution_count": 3,
   "id": "c08a2101-cdec-4bb2-b3e1-8ce8b87662cb",
   "metadata": {},
   "outputs": [],
   "source": [
    "def cal_(beta_train_emb,beta_train_st,alpha_train_emb,alpha_train_st,\n",
    "         train_labels,seed=1,lr=0.0001,weight_decay=0.02,\n",
    "         num_blocks=1,latent_dim=256,BATCH_SIZE=4,epoch=200,device='cuda:0',save_path='./model.pt'):\n",
    "    torch.manual_seed(seed)\n",
    "    dataset=sx_Dataset(beta_train_emb,beta_train_st,\n",
    "                       alpha_train_emb,alpha_train_st,train_labels)\n",
    "    model=classification_model(beta_input_dim=beta_train_emb.shape[-1],beta_mid_dim=beta_train_emb.shape[-2],\n",
    "                                beta_st_input_dim=beta_train_st.shape[-1],beta_st_mid_dim=beta_train_st.shape[-2],\n",
    "                                alpha_input_dim=alpha_train_emb.shape[-1],alpha_mid_dim=alpha_train_emb.shape[-2],\n",
    "                                alpha_st_input_dim=alpha_train_st.shape[-1],alpha_st_mid_dim=alpha_train_st.shape[-2],\n",
    "                               num_blocks=num_blocks,latent_dim=latent_dim\n",
    "                              )\n",
    "    \n",
    "    model=model.to(device)\n",
    "    optimizer = torch.optim.AdamW(model.parameters(), lr=lr, weight_decay=weight_decay)\n",
    "\n",
    "    total_itm=0\n",
    "    for es in range(epoch):\n",
    "        model.train()\n",
    "        tcr_dataloader = DataLoader(dataset=dataset,batch_size=BATCH_SIZE,shuffle=True,num_workers=4,drop_last=True)\n",
    "  \n",
    "        for i,(be,bt,ae,at,labels) in enumerate(tcr_dataloader):\n",
    "            be=torch.tensor(be,dtype=torch.float32)\n",
    "            be=be.to(device)\n",
    "            bt=torch.tensor(bt,dtype=torch.float32)\n",
    "            bt=bt.to(device)\n",
    "            \n",
    "            ae=torch.tensor(ae,dtype=torch.float32)\n",
    "            ae=be.to(device)\n",
    "            at=torch.tensor(at,dtype=torch.float32)\n",
    "            at=at.to(device)\n",
    "            \n",
    "            itm_labels=torch.tensor(labels,dtype=torch.float32)\n",
    "            itm_labels=itm_labels.to(device)\n",
    "\n",
    "            vl_output = model(be,bt,ae,at).flatten()\n",
    "            loss_itm = F.binary_cross_entropy(vl_output.squeeze(), itm_labels, reduction='none').mean()\n",
    "\n",
    "            total_itm+=loss_itm.item()\n",
    "\n",
    "            optimizer.zero_grad()\n",
    "            loss_itm.backward()\n",
    "            optimizer.step()\n",
    "            \n",
    "    torch.save(model,save_path)"
   ]
  },
  {
   "cell_type": "code",
   "execution_count": 4,
   "id": "169ebb72-66cf-486f-86de-7e18f41734c1",
   "metadata": {},
   "outputs": [],
   "source": [
    "beta_train_emb=np.load('../../tmp_data/1/beta_train_emb.npy')\n",
    "beta_train_st=np.load('../../tmp_data/1/beta_train_st.npy')\n",
    "alpha_train_emb=np.load('../../tmp_data/1/alpha_train_emb.npy')\n",
    "alpha_train_st=np.load('../../tmp_data/1/alpha_train_st.npy')\n",
    "train_labels=pd.read_csv('../../tmp_data/1/train.csv')['Label'].to_numpy()\n",
    "model_save_path='./model.pt'\n",
    "cuda='cuda:0'"
   ]
  },
  {
   "cell_type": "code",
   "execution_count": 5,
   "id": "ffe3365f-188a-4540-959a-e7d2c3894174",
   "metadata": {},
   "outputs": [
    {
     "name": "stderr",
     "output_type": "stream",
     "text": [
      "/tmp/ipykernel_3881236/1359823471.py:23: UserWarning: To copy construct from a tensor, it is recommended to use sourceTensor.clone().detach() or sourceTensor.clone().detach().requires_grad_(True), rather than torch.tensor(sourceTensor).\n",
      "  be=torch.tensor(be,dtype=torch.float32)\n",
      "/tmp/ipykernel_3881236/1359823471.py:25: UserWarning: To copy construct from a tensor, it is recommended to use sourceTensor.clone().detach() or sourceTensor.clone().detach().requires_grad_(True), rather than torch.tensor(sourceTensor).\n",
      "  bt=torch.tensor(bt,dtype=torch.float32)\n",
      "/tmp/ipykernel_3881236/1359823471.py:28: UserWarning: To copy construct from a tensor, it is recommended to use sourceTensor.clone().detach() or sourceTensor.clone().detach().requires_grad_(True), rather than torch.tensor(sourceTensor).\n",
      "  ae=torch.tensor(ae,dtype=torch.float32)\n",
      "/tmp/ipykernel_3881236/1359823471.py:30: UserWarning: To copy construct from a tensor, it is recommended to use sourceTensor.clone().detach() or sourceTensor.clone().detach().requires_grad_(True), rather than torch.tensor(sourceTensor).\n",
      "  at=torch.tensor(at,dtype=torch.float32)\n",
      "/tmp/ipykernel_3881236/1359823471.py:33: UserWarning: To copy construct from a tensor, it is recommended to use sourceTensor.clone().detach() or sourceTensor.clone().detach().requires_grad_(True), rather than torch.tensor(sourceTensor).\n",
      "  itm_labels=torch.tensor(labels,dtype=torch.float32)\n"
     ]
    }
   ],
   "source": [
    "cal_(beta_train_emb,beta_train_st,alpha_train_emb,alpha_train_st,\n",
    "         train_labels,device=cuda,save_path=model_save_path)"
   ]
  },
  {
   "cell_type": "code",
   "execution_count": 6,
   "id": "2cfea8ff-5b4f-46ca-802f-f0dad05c3c2a",
   "metadata": {},
   "outputs": [
    {
     "name": "stderr",
     "output_type": "stream",
     "text": [
      "/tmp/ipykernel_3881236/3839462922.py:1: FutureWarning: You are using `torch.load` with `weights_only=False` (the current default value), which uses the default pickle module implicitly. It is possible to construct malicious pickle data which will execute arbitrary code during unpickling (See https://github.com/pytorch/pytorch/blob/main/SECURITY.md#untrusted-models for more details). In a future release, the default value for `weights_only` will be flipped to `True`. This limits the functions that could be executed during unpickling. Arbitrary objects will no longer be allowed to be loaded via this mode unless they are explicitly allowlisted by the user via `torch.serialization.add_safe_globals`. We recommend you start setting `weights_only=True` for any use case where you don't have full control of the loaded file. Please open an issue on GitHub for any issues related to this experimental feature.\n",
      "  model=torch.load(model_save_path)\n"
     ]
    }
   ],
   "source": [
    "model=torch.load(model_save_path)"
   ]
  },
  {
   "cell_type": "code",
   "execution_count": 7,
   "id": "f2c7a3af-d6cb-4f61-a3ac-c67d93dff005",
   "metadata": {},
   "outputs": [
    {
     "data": {
      "text/plain": [
       "classification_model(\n",
       "  (exp_linear): Linear(in_features=64, out_features=256, bias=True)\n",
       "  (low_linear): Linear(in_features=1024, out_features=256, bias=True)\n",
       "  (blks): ModuleList(\n",
       "    (0): AttentionBlock(\n",
       "      (norm1): BatchNorm1d(121, eps=1e-06, momentum=0.1, affine=True, track_running_stats=True)\n",
       "      (norm2): BatchNorm1d(121, eps=1e-06, momentum=0.1, affine=True, track_running_stats=True)\n",
       "      (attn): Attention(\n",
       "        (qkv): Linear(in_features=256, out_features=768, bias=True)\n",
       "        (attn_drop): Dropout(p=0.0, inplace=False)\n",
       "        (proj): Linear(in_features=256, out_features=256, bias=True)\n",
       "        (proj_drop): Dropout(p=0.0, inplace=False)\n",
       "      )\n",
       "      (mlp): Mlp(\n",
       "        (fc1): Linear(in_features=256, out_features=1024, bias=True)\n",
       "        (act): GELU(approximate='tanh')\n",
       "        (drop1): Dropout(p=0, inplace=False)\n",
       "        (fc2): Linear(in_features=1024, out_features=256, bias=True)\n",
       "        (drop2): Dropout(p=0, inplace=False)\n",
       "      )\n",
       "    )\n",
       "  )\n",
       "  (dense): Sequential(\n",
       "    (0): Linear(in_features=256, out_features=256, bias=True)\n",
       "    (1): ReLU()\n",
       "    (2): Linear(in_features=256, out_features=50, bias=True)\n",
       "    (3): ReLU()\n",
       "    (4): Linear(in_features=50, out_features=1, bias=True)\n",
       "    (5): Sigmoid()\n",
       "  )\n",
       ")"
      ]
     },
     "execution_count": 7,
     "metadata": {},
     "output_type": "execute_result"
    }
   ],
   "source": [
    "model.eval()"
   ]
  },
  {
   "cell_type": "code",
   "execution_count": 8,
   "id": "5452c3f6-be8b-421e-9891-0409147b1f83",
   "metadata": {},
   "outputs": [],
   "source": [
    "beta_test_emb=np.load('../../tmp_data/1/beta_test_emb.npy')\n",
    "beta_test_st=np.load('../../tmp_data/1/beta_test_st.npy')\n",
    "alpha_test_emb=np.load('../../tmp_data/1/alpha_test_emb.npy')\n",
    "alpha_test_st=np.load('../../tmp_data/1/alpha_test_st.npy')\n",
    "test_labels=pd.read_csv('../../tmp_data/1/test.csv')['Label'].to_numpy()"
   ]
  },
  {
   "cell_type": "code",
   "execution_count": 9,
   "id": "c08332dc-287d-4550-b7f5-d34f78a4e661",
   "metadata": {},
   "outputs": [],
   "source": [
    "preds=model(torch.tensor(beta_test_emb,dtype=torch.float32).to(cuda),\n",
    "            torch.tensor(beta_test_st,dtype=torch.float32).to(cuda),\n",
    "            torch.tensor(alpha_test_emb,dtype=torch.float32).to(cuda),\n",
    "            torch.tensor(alpha_test_st,dtype=torch.float32).to(cuda))"
   ]
  },
  {
   "cell_type": "code",
   "execution_count": 10,
   "id": "e81d7613-a4ab-4f2c-9ed2-e1e115b80267",
   "metadata": {},
   "outputs": [
    {
     "data": {
      "text/plain": [
       "1.0"
      ]
     },
     "execution_count": 10,
     "metadata": {},
     "output_type": "execute_result"
    }
   ],
   "source": [
    "roc_auc_score(test_labels,preds.detach().cpu().numpy())"
   ]
  },
  {
   "cell_type": "code",
   "execution_count": null,
   "id": "2da48068-94ab-4f29-ab1a-bb7a6ab2ffb2",
   "metadata": {},
   "outputs": [],
   "source": []
  }
 ],
 "metadata": {
  "kernelspec": {
   "display_name": "sx",
   "language": "python",
   "name": "sx"
  },
  "language_info": {
   "codemirror_mode": {
    "name": "ipython",
    "version": 3
   },
   "file_extension": ".py",
   "mimetype": "text/x-python",
   "name": "python",
   "nbconvert_exporter": "python",
   "pygments_lexer": "ipython3",
   "version": "3.9.16"
  }
 },
 "nbformat": 4,
 "nbformat_minor": 5
}

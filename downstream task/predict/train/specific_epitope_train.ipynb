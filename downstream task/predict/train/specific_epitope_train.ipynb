{
 "cells": [
  {
   "cell_type": "code",
   "execution_count": null,
   "id": "4675270c-87e4-49dd-94b2-44b518bb1015",
   "metadata": {},
   "outputs": [],
   "source": [
    "import os,sys\n",
    "b_directory = os.path.abspath(os.path.join(os.getcwd(),'..', '..', 'model'))\n",
    "sys.path.insert(0, b_directory)\n",
    "from specific_epitope import *\n",
    "import numpy as np\n",
    "import torch\n",
    "from torch import nn\n",
    "from torch.optim import Adam\n",
    "from torch.nn import functional as F\n",
    "from torch.utils.data import DataLoader, Dataset"
   ]
  },
  {
   "cell_type": "code",
   "execution_count": null,
   "id": "f2900edd-2008-4aea-a2fd-abcdddaec787",
   "metadata": {},
   "outputs": [],
   "source": [
    "class sx_Dataset(Dataset):\n",
    "    def __init__(self,data1,data2,data3,data4,data5):\n",
    "        self.x1 = data1\n",
    "        self.x2 = data2\n",
    "        self.x3 = data3\n",
    "        self.x4 = data4\n",
    "        self.x5 = data5\n",
    "\n",
    "        self.len = data1.shape[0]\n",
    "        \n",
    "    def __getitem__(self, index):\n",
    "        return self.x1[index],self.x2[index],self.x3[index],self.x4[index],self.x5[index]\n",
    " \n",
    "    def __len__(self):\n",
    "        return self.len"
   ]
  },
  {
   "cell_type": "code",
   "execution_count": null,
   "id": "c08a2101-cdec-4bb2-b3e1-8ce8b87662cb",
   "metadata": {},
   "outputs": [],
   "source": [
    "def cal_(beta_train_emb,beta_train_st,alpha_train_emb,alpha_train_st,\n",
    "         train_labels,seed=1,lr=0.0001,weight_decay=0.02,\n",
    "         num_blocks=8,latent_dim=256,BATCH_SIZE=16,epoch=300,device='cuda:0'):\n",
    "    torch.manual_seed(seed)\n",
    "    dataset=sx_Dataset(beta_train_emb,beta_train_st,\n",
    "                       alpha_train_emb,alpha_train_st,train_labels)\n",
    "    model=classification_model(beta_input_dim=beta_train_emb.shape[-1],beta_mid_dim=beta_train_emb.shape[-2],\n",
    "                                beta_st_input_dim=beta_train_st.shape[-1],beta_st_mid_dim=beta_train_st.shape[-2],\n",
    "                                alpha_input_dim=alpha_train_emb.shape[-1],alpha_mid_dim=alpha_train_emb.shape[-2],\n",
    "                                alpha_st_input_dim=alpha_train_st.shape[-1],alpha_st_mid_dim=alpha_train_st.shape[-2],\n",
    "                               num_blocks=num_blocks,latent_dim=latent_dim\n",
    "                              )\n",
    "    \n",
    "    model=model.to(device)\n",
    "    optimizer = torch.optim.AdamW(model.parameters(), lr=lr, weight_decay=weight_decay)\n",
    "\n",
    "    for es in range(epoch):\n",
    "        model.train()\n",
    "        tcr_dataloader = DataLoader(dataset=dataset,batch_size=BATCH_SIZE,shuffle=True,num_workers=4,drop_last=True)\n",
    "  \n",
    "        for i,(be,bt,ae,at,labels) in enumerate(tcr_dataloader):\n",
    "            be=torch.tensor(be,dtype=torch.float32)\n",
    "            be=be.to(device)\n",
    "            bt=torch.tensor(bt,dtype=torch.float32)\n",
    "            bt=bt.to(device)\n",
    "            \n",
    "            ae=torch.tensor(ae,dtype=torch.float32)\n",
    "            ae=be.to(device)\n",
    "            at=torch.tensor(at,dtype=torch.float32)\n",
    "            at=at.to(device)\n",
    "            \n",
    "            itm_labels=torch.tensor(labels,dtype=torch.float32)\n",
    "            itm_labels=itm_labels.to(device)\n",
    "\n",
    "            vl_output = model(be,bt,ae,at).flatten()\n",
    "            loss_itm = F.binary_cross_entropy(vl_output.squeeze(), itm_labels, reduction='none').mean()\n",
    "\n",
    "            total_itm+=loss_itm.item()\n",
    "\n",
    "            optimizer.zero_grad()\n",
    "            loss_itm.backward()\n",
    "            optimizer.step()\n",
    "            \n",
    "        torch.save(model,'./model_'+str(es)+'.pt')"
   ]
  },
  {
   "cell_type": "code",
   "execution_count": null,
   "id": "169ebb72-66cf-486f-86de-7e18f41734c1",
   "metadata": {},
   "outputs": [],
   "source": [
    "beta_train_emb=np.load('./beta_train_emb.npy')\n",
    "beta_train_st=np.load('./beta_train_st.npy')\n",
    "alpha_train_emb=np.load('./alpha_train_emb.npy')\n",
    "alpha_train_st=np.load('./alpha_train_st.npy')\n",
    "train_labels=np.load('./train_labels.npy')"
   ]
  },
  {
   "cell_type": "code",
   "execution_count": null,
   "id": "ffe3365f-188a-4540-959a-e7d2c3894174",
   "metadata": {},
   "outputs": [],
   "source": [
    "cal(beta_train_emb,beta_train_st,alpha_train_emb,alpha_train_st,\n",
    "         train_labels)"
   ]
  }
 ],
 "metadata": {
  "kernelspec": {
   "display_name": "sx",
   "language": "python",
   "name": "sx"
  },
  "language_info": {
   "codemirror_mode": {
    "name": "ipython",
    "version": 3
   },
   "file_extension": ".py",
   "mimetype": "text/x-python",
   "name": "python",
   "nbconvert_exporter": "python",
   "pygments_lexer": "ipython3",
   "version": "3.9.16"
  }
 },
 "nbformat": 4,
 "nbformat_minor": 5
}

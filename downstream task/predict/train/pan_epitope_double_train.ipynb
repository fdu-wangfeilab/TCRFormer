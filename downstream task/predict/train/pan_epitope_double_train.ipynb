{
 "cells": [
  {
   "cell_type": "code",
   "execution_count": null,
   "id": "c86e8d1f-e4e1-43c9-99fe-8899d8aa6183",
   "metadata": {},
   "outputs": [],
   "source": [
    "import os,sys\n",
    "b_directory = os.path.abspath(os.path.join(os.getcwd(), '..', '..', 'model'))\n",
    "sys.path.insert(0, b_directory)\n",
    "from pan_epitope_double import *\n",
    "import numpy as np\n",
    "import torch\n",
    "from torch import nn\n",
    "from torch.optim import Adam\n",
    "from torch.nn import functional as F\n",
    "from torch.utils.data import DataLoader, Dataset"
   ]
  },
  {
   "cell_type": "code",
   "execution_count": null,
   "id": "ab41daf8-764e-4b5c-adf4-aa91025ab178",
   "metadata": {},
   "outputs": [],
   "source": [
    "class sx_Dataset(Dataset):\n",
    "    def __init__(self,data1,data2,data3,data4):\n",
    "        self.x1 = data1\n",
    "        self.x2 = data2\n",
    "        self.x3 = data3\n",
    "        self.x4 = data4\n",
    "        self.len = data1.shape[0]\n",
    " \n",
    "    def __getitem__(self, index):\n",
    "        return self.x1[index],self.x2[index],self.x3[index],self.x4[index]\n",
    " \n",
    "    def __len__(self):\n",
    "        return self.len"
   ]
  },
  {
   "cell_type": "code",
   "execution_count": null,
   "id": "f6aee541-df17-4c68-8cb8-d285505fc066",
   "metadata": {},
   "outputs": [],
   "source": [
    "def set_seed(seed):\n",
    "    torch.manual_seed(seed)\n",
    "    torch.cuda.manual_seed(seed)\n",
    "    torch.cuda.manual_seed_all(seed) \n",
    "\n",
    "    torch.backends.cudnn.deterministic = True\n",
    "    torch.backends.cudnn.benchmark = False"
   ]
  },
  {
   "cell_type": "code",
   "execution_count": null,
   "id": "c4f51435-cbc5-4027-96c1-c033f07614a4",
   "metadata": {},
   "outputs": [],
   "source": [
    "def cal_(beta_train_emb,alpha_train_emb,ep_train_emb,train_labels,seed=1,lr=0.0001,EPOCH=100,BATCH_SIZE=16, device='cuda:1'):\n",
    "    \n",
    "    set_seed(seed)\n",
    "    dataset = sx_Dataset(beta_train_emb,alpha_train_emb,ep_train_emb,train_labels)\n",
    "    train_dataloader=DataLoader(dataset=dataset,batch_size=BATCH_SIZE,shuffle=True,num_workers=4,drop_last=True)\n",
    "\n",
    "    model=classification_model(tcr_dim=beta_train_emb.shape[-1], pep_dim=ep_train_emb.shape[-1], \n",
    "                               )\n",
    "    model=model.to(device)\n",
    "    optimizer = torch.optim.AdamW(model.parameters(), lr=lr)\n",
    "\n",
    "    for epoch in range(EPOCH):\n",
    "        model.train()       \n",
    "\n",
    "        for tra_step, (btr,atr,pep,tl) in enumerate(train_dataloader):   \n",
    "            pep=torch.tensor(pep,dtype=torch.float32).to(device) \n",
    "            btr=torch.tensor(btr,dtype=torch.float32).to(device)    \n",
    "            atr=torch.tensor(atr,dtype=torch.float32).to(device) \n",
    "            tl=torch.tensor(tl,dtype=torch.float32).to(device)\n",
    "\n",
    "            pred = model(btr,atr,pep).flatten()  \n",
    "            loss = F.binary_cross_entropy(pred,tl)\n",
    "\n",
    "            optimizer.zero_grad()\n",
    "            loss.requires_grad_(True)\n",
    "            loss.backward()\n",
    "            optimizer.step()\n",
    "            \n",
    "        torch.save(model,'./model_'+str(epoch)+'.pt')"
   ]
  },
  {
   "cell_type": "code",
   "execution_count": null,
   "id": "1083a6d4-7b5a-4f13-a535-8718daeccccd",
   "metadata": {},
   "outputs": [],
   "source": [
    "beta_train_emb=np.load('./beta_train_emb.npy')\n",
    "alpha_train_emb=np.load('./alpha_train_emb.npy')\n",
    "ep_train_emb=np.load('./ep_train_emb.npy')\n",
    "train_labels=np.load('./train_labels.npy')"
   ]
  },
  {
   "cell_type": "code",
   "execution_count": null,
   "id": "1162448c-f098-4706-b883-49bb7a9c7555",
   "metadata": {},
   "outputs": [],
   "source": [
    "cal_(beta_train_emb,ep_train_emb,train_health_tcr_emb)"
   ]
  }
 ],
 "metadata": {
  "kernelspec": {
   "display_name": "sx",
   "language": "python",
   "name": "sx"
  },
  "language_info": {
   "codemirror_mode": {
    "name": "ipython",
    "version": 3
   },
   "file_extension": ".py",
   "mimetype": "text/x-python",
   "name": "python",
   "nbconvert_exporter": "python",
   "pygments_lexer": "ipython3",
   "version": "3.9.16"
  }
 },
 "nbformat": 4,
 "nbformat_minor": 5
}

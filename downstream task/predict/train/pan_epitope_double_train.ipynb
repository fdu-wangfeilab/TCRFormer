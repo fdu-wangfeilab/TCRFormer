{
 "cells": [
  {
   "cell_type": "code",
   "execution_count": 1,
   "id": "c86e8d1f-e4e1-43c9-99fe-8899d8aa6183",
   "metadata": {},
   "outputs": [],
   "source": [
    "import os,sys\n",
    "b_directory = os.path.abspath(os.path.join(os.getcwd(), '..', '..', 'model'))\n",
    "sys.path.insert(0, b_directory)\n",
    "from pan_epitope_double import *\n",
    "import numpy as np\n",
    "import pandas as pd\n",
    "import torch\n",
    "from torch import nn\n",
    "from torch.optim import Adam\n",
    "from torch.nn import functional as F\n",
    "from torch.utils.data import DataLoader, Dataset\n",
    "from sklearn.metrics import (\n",
    "    average_precision_score,\n",
    "    roc_auc_score\n",
    ")"
   ]
  },
  {
   "cell_type": "code",
   "execution_count": 2,
   "id": "ab41daf8-764e-4b5c-adf4-aa91025ab178",
   "metadata": {},
   "outputs": [],
   "source": [
    "class sx_Dataset(Dataset):\n",
    "    def __init__(self,data1,data2,data3,data4):\n",
    "        self.x1 = data1\n",
    "        self.x2 = data2\n",
    "        self.x3 = data3\n",
    "        self.x4 = data4\n",
    "        self.len = data1.shape[0]\n",
    " \n",
    "    def __getitem__(self, index):\n",
    "        return self.x1[index],self.x2[index],self.x3[index],self.x4[index]\n",
    " \n",
    "    def __len__(self):\n",
    "        return self.len"
   ]
  },
  {
   "cell_type": "code",
   "execution_count": 3,
   "id": "f6aee541-df17-4c68-8cb8-d285505fc066",
   "metadata": {},
   "outputs": [],
   "source": [
    "def set_seed(seed):\n",
    "    torch.manual_seed(seed)\n",
    "    torch.cuda.manual_seed(seed)\n",
    "    torch.cuda.manual_seed_all(seed) \n",
    "\n",
    "    torch.backends.cudnn.deterministic = True\n",
    "    torch.backends.cudnn.benchmark = False"
   ]
  },
  {
   "cell_type": "code",
   "execution_count": 4,
   "id": "c4f51435-cbc5-4027-96c1-c033f07614a4",
   "metadata": {},
   "outputs": [],
   "source": [
    "def cal_(beta_train_emb,alpha_train_emb,ep_train_emb,train_labels,seed=1,lr=0.0001,EPOCH=100,BATCH_SIZE=16, device='cuda:1',save_path='./model.pt'):\n",
    "    \n",
    "    set_seed(seed)\n",
    "    dataset = sx_Dataset(beta_train_emb,alpha_train_emb,ep_train_emb,train_labels)\n",
    "    train_dataloader=DataLoader(dataset=dataset,batch_size=BATCH_SIZE,shuffle=True,num_workers=4,drop_last=True)\n",
    "\n",
    "    model=classification_model(tcr_dim=beta_train_emb.shape[-1], pep_dim=ep_train_emb.shape[-1], \n",
    "                               )\n",
    "    model=model.to(device)\n",
    "    optimizer = torch.optim.AdamW(model.parameters(), lr=lr)\n",
    "\n",
    "    for epoch in range(EPOCH):\n",
    "        model.train()       \n",
    "\n",
    "        for tra_step, (btr,atr,pep,tl) in enumerate(train_dataloader):   \n",
    "            pep=torch.tensor(pep,dtype=torch.float32).to(device) \n",
    "            btr=torch.tensor(btr,dtype=torch.float32).to(device)    \n",
    "            atr=torch.tensor(atr,dtype=torch.float32).to(device) \n",
    "            tl=torch.tensor(tl,dtype=torch.float32).to(device)\n",
    "\n",
    "            pred = model(btr,atr,pep).flatten()  \n",
    "            loss = F.binary_cross_entropy(pred,tl)\n",
    "\n",
    "            optimizer.zero_grad()\n",
    "            loss.requires_grad_(True)\n",
    "            loss.backward()\n",
    "            optimizer.step()\n",
    "            \n",
    "    torch.save(model,save_path)"
   ]
  },
  {
   "cell_type": "code",
   "execution_count": 5,
   "id": "1083a6d4-7b5a-4f13-a535-8718daeccccd",
   "metadata": {},
   "outputs": [],
   "source": [
    "beta_train_emb=np.load('../../tmp_data/3/beta_train_emb.npy')\n",
    "alpha_train_emb=np.load('../../tmp_data/3/alpha_train_emb.npy')\n",
    "ep_train_emb=np.load('../../tmp_data/3/ep_train_emb.npy')\n",
    "train_labels=pd.read_csv('../../tmp_data/3/train.csv')['Target'].to_numpy()\n",
    "model_save_path='./model.pt'\n",
    "cuda='cuda:0'"
   ]
  },
  {
   "cell_type": "code",
   "execution_count": 6,
   "id": "1162448c-f098-4706-b883-49bb7a9c7555",
   "metadata": {},
   "outputs": [
    {
     "name": "stderr",
     "output_type": "stream",
     "text": [
      "/tmp/ipykernel_3746323/3879053218.py:16: UserWarning: To copy construct from a tensor, it is recommended to use sourceTensor.clone().detach() or sourceTensor.clone().detach().requires_grad_(True), rather than torch.tensor(sourceTensor).\n",
      "  pep=torch.tensor(pep,dtype=torch.float32).to(device)\n",
      "/tmp/ipykernel_3746323/3879053218.py:17: UserWarning: To copy construct from a tensor, it is recommended to use sourceTensor.clone().detach() or sourceTensor.clone().detach().requires_grad_(True), rather than torch.tensor(sourceTensor).\n",
      "  btr=torch.tensor(btr,dtype=torch.float32).to(device)\n",
      "/tmp/ipykernel_3746323/3879053218.py:18: UserWarning: To copy construct from a tensor, it is recommended to use sourceTensor.clone().detach() or sourceTensor.clone().detach().requires_grad_(True), rather than torch.tensor(sourceTensor).\n",
      "  atr=torch.tensor(atr,dtype=torch.float32).to(device)\n",
      "/tmp/ipykernel_3746323/3879053218.py:19: UserWarning: To copy construct from a tensor, it is recommended to use sourceTensor.clone().detach() or sourceTensor.clone().detach().requires_grad_(True), rather than torch.tensor(sourceTensor).\n",
      "  tl=torch.tensor(tl,dtype=torch.float32).to(device)\n"
     ]
    }
   ],
   "source": [
    "cal_(beta_train_emb,alpha_train_emb,ep_train_emb,train_labels,device=cuda,save_path=model_save_path)"
   ]
  },
  {
   "cell_type": "code",
   "execution_count": 7,
   "id": "9fbaf971-674d-4500-abd8-e611592aa9e4",
   "metadata": {},
   "outputs": [],
   "source": [
    "beta_test_emb=np.load('../../tmp_data/3/beta_test_emb.npy')\n",
    "alpha_test_emb=np.load('../../tmp_data/3/alpha_test_emb.npy')\n",
    "ep_test_emb=np.load('../../tmp_data/3/ep_test_emb.npy')\n",
    "test_labels=pd.read_csv('../../tmp_data/3/test.csv')['Target'].to_numpy()"
   ]
  },
  {
   "cell_type": "code",
   "execution_count": 8,
   "id": "c31f8d1f-a393-4383-9bb4-f1ba1f78623d",
   "metadata": {},
   "outputs": [
    {
     "name": "stderr",
     "output_type": "stream",
     "text": [
      "/tmp/ipykernel_3746323/3839462922.py:1: FutureWarning: You are using `torch.load` with `weights_only=False` (the current default value), which uses the default pickle module implicitly. It is possible to construct malicious pickle data which will execute arbitrary code during unpickling (See https://github.com/pytorch/pytorch/blob/main/SECURITY.md#untrusted-models for more details). In a future release, the default value for `weights_only` will be flipped to `True`. This limits the functions that could be executed during unpickling. Arbitrary objects will no longer be allowed to be loaded via this mode unless they are explicitly allowlisted by the user via `torch.serialization.add_safe_globals`. We recommend you start setting `weights_only=True` for any use case where you don't have full control of the loaded file. Please open an issue on GitHub for any issues related to this experimental feature.\n",
      "  model=torch.load(model_save_path)\n"
     ]
    }
   ],
   "source": [
    "model=torch.load(model_save_path)"
   ]
  },
  {
   "cell_type": "code",
   "execution_count": 9,
   "id": "68617cbf-0e8c-4f77-88cd-b04d909f2e31",
   "metadata": {},
   "outputs": [
    {
     "data": {
      "text/plain": [
       "classification_model(\n",
       "  (cdr3_beta_linear): Linear(in_features=1024, out_features=256, bias=True)\n",
       "  (cdr3_alpha_linear): Linear(in_features=1024, out_features=256, bias=True)\n",
       "  (pep_linear): Linear(in_features=1024, out_features=256, bias=True)\n",
       "  (gate_conv): Conv2d(512, 256, kernel_size=(1, 1), stride=(1, 1))\n",
       "  (sigmoid): Sigmoid()\n",
       "  (inter_layers): ModuleList(\n",
       "    (0-1): 2 x Sequential(\n",
       "      (0): Conv2d(256, 256, kernel_size=(3, 3), stride=(1, 1), padding=(1, 1))\n",
       "      (1): BatchNorm2d(256, eps=1e-05, momentum=0.1, affine=True, track_running_stats=True)\n",
       "      (2): ReLU()\n",
       "    )\n",
       "  )\n",
       "  (seqlevel_outlyer): Sequential(\n",
       "    (0): AdaptiveMaxPool2d(output_size=1)\n",
       "    (1): Flatten(start_dim=1, end_dim=-1)\n",
       "    (2): Dropout(p=0.2, inplace=False)\n",
       "    (3): Linear(in_features=256, out_features=1, bias=True)\n",
       "    (4): Sigmoid()\n",
       "  )\n",
       ")"
      ]
     },
     "execution_count": 9,
     "metadata": {},
     "output_type": "execute_result"
    }
   ],
   "source": [
    "model.eval()"
   ]
  },
  {
   "cell_type": "code",
   "execution_count": 10,
   "id": "8d247a15-b2bc-43fd-a669-ae628516222e",
   "metadata": {},
   "outputs": [],
   "source": [
    "preds=model(torch.tensor(beta_test_emb,dtype=torch.float32).to(cuda),\n",
    "            torch.tensor(alpha_test_emb,dtype=torch.float32).to(cuda),\n",
    "            torch.tensor(ep_test_emb,dtype=torch.float32).to(cuda),\n",
    "           )"
   ]
  },
  {
   "cell_type": "code",
   "execution_count": 11,
   "id": "9fedbe67-2f10-40bc-9f95-60d715f365c9",
   "metadata": {},
   "outputs": [
    {
     "data": {
      "text/plain": [
       "0.96"
      ]
     },
     "execution_count": 11,
     "metadata": {},
     "output_type": "execute_result"
    }
   ],
   "source": [
    "roc_auc_score(test_labels,preds.detach().cpu().numpy())"
   ]
  },
  {
   "cell_type": "code",
   "execution_count": null,
   "id": "b791efe8-6ce8-49ed-b06a-4ac6c0dba33b",
   "metadata": {},
   "outputs": [],
   "source": []
  }
 ],
 "metadata": {
  "kernelspec": {
   "display_name": "sx",
   "language": "python",
   "name": "sx"
  },
  "language_info": {
   "codemirror_mode": {
    "name": "ipython",
    "version": 3
   },
   "file_extension": ".py",
   "mimetype": "text/x-python",
   "name": "python",
   "nbconvert_exporter": "python",
   "pygments_lexer": "ipython3",
   "version": "3.9.16"
  }
 },
 "nbformat": 4,
 "nbformat_minor": 5
}

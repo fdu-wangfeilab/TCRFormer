{
 "cells": [
  {
   "cell_type": "code",
   "execution_count": 1,
   "id": "974ffc69-fea7-43ed-a90a-81cb96e5afc6",
   "metadata": {},
   "outputs": [],
   "source": [
    "import os,sys\n",
    "b_directory = os.path.abspath(os.path.join(os.getcwd(), '..', '..', 'model'))\n",
    "sys.path.insert(0, b_directory)\n",
    "from repertoire_cls_bin import *\n",
    "import numpy as np\n",
    "import torch\n",
    "from torch import nn\n",
    "from torch.optim import Adam\n",
    "from torch.nn import functional as F\n",
    "from torch.utils.data import DataLoader, Dataset\n",
    "from sklearn.metrics import (\n",
    "    average_precision_score,\n",
    "    roc_auc_score\n",
    ")"
   ]
  },
  {
   "cell_type": "code",
   "execution_count": 2,
   "id": "3a732992-8036-4c87-9525-43a2e887b920",
   "metadata": {},
   "outputs": [],
   "source": [
    "class sx_Dataset(Dataset):\n",
    "    def __init__(self,data1,data2):\n",
    "        self.x1 = data1\n",
    "        self.x2 = data2\n",
    "        self.len = data1.shape[0]\n",
    " \n",
    "    def __getitem__(self, index):\n",
    "        return self.x1[index],self.x2[index]\n",
    " \n",
    "    def __len__(self):\n",
    "        return self.len"
   ]
  },
  {
   "cell_type": "code",
   "execution_count": 3,
   "id": "824d02ba-fc05-4f95-ab48-a4df55d1a0db",
   "metadata": {},
   "outputs": [],
   "source": [
    "def cal_(train_array,train_labels,seed=1,lr=0.0001,EPOCH=50,BATCH_SIZE=32, device='cuda:0',save_path='./model.pt'):\n",
    "    torch.manual_seed(seed)\n",
    "    model=classification_model(tcr_dim=train_array.shape[-1],nums=train_array.shape[-2])\n",
    "    \n",
    "    model=model.to(device)\n",
    "    optimizer = torch.optim.AdamW(model.parameters(), lr=lr)\n",
    "    \n",
    "    for epoch in range(EPOCH):\n",
    "        model.train()\n",
    "        train_dataloader= DataLoader(dataset=sx_Dataset(train_array,train_labels),batch_size=BATCH_SIZE,shuffle=True,num_workers=4,drop_last=True)\n",
    "        total_loss = 0\n",
    "        for tra_step, (cdr3,label) in enumerate(train_dataloader):\n",
    "            cdr3=torch.tensor(cdr3,dtype=torch.float32)\n",
    "            cdr3=cdr3.to(device)\n",
    "            \n",
    "            label=torch.tensor(label,dtype=torch.float32)\n",
    "            label=label.to(device)\n",
    "            \n",
    "            pred = model(cdr3)\n",
    "            pred = pred.flatten()\n",
    "            \n",
    "            loss = F.binary_cross_entropy(pred,label)\n",
    "            \n",
    "            optimizer.zero_grad()\n",
    "            loss.requires_grad_(True)\n",
    "            loss.backward()\n",
    "            optimizer.step()\n",
    "         \n",
    "    torch.save(model,save_path)"
   ]
  },
  {
   "cell_type": "code",
   "execution_count": 4,
   "id": "23a62346-88d2-4787-b287-2315391d4e6f",
   "metadata": {},
   "outputs": [],
   "source": [
    "train_cdr3=np.load('../../tmp_data/4/train_cdr3.npy')\n",
    "train_labels=np.load('../../tmp_data/4/train_labels.npy')\n",
    "model_save_path='./model.pt'\n",
    "cuda='cuda:0'"
   ]
  },
  {
   "cell_type": "code",
   "execution_count": 5,
   "id": "7cb084a6-2590-431a-b804-66c9fc459903",
   "metadata": {},
   "outputs": [
    {
     "name": "stderr",
     "output_type": "stream",
     "text": [
      "/tmp/ipykernel_217507/2139930225.py:13: UserWarning: To copy construct from a tensor, it is recommended to use sourceTensor.clone().detach() or sourceTensor.clone().detach().requires_grad_(True), rather than torch.tensor(sourceTensor).\n",
      "  cdr3=torch.tensor(cdr3,dtype=torch.float32)\n",
      "/tmp/ipykernel_217507/2139930225.py:16: UserWarning: To copy construct from a tensor, it is recommended to use sourceTensor.clone().detach() or sourceTensor.clone().detach().requires_grad_(True), rather than torch.tensor(sourceTensor).\n",
      "  label=torch.tensor(label,dtype=torch.float32)\n"
     ]
    }
   ],
   "source": [
    "cal_(train_cdr3,train_labels,device=cuda,save_path=model_save_path)"
   ]
  },
  {
   "cell_type": "code",
   "execution_count": 6,
   "id": "21ea88b5-a83b-4936-bf95-f6d87973ef33",
   "metadata": {},
   "outputs": [],
   "source": [
    "test_cdr3=np.load('../../tmp_data/4/test_cdr3.npy')\n",
    "test_labels=np.load('../../tmp_data/4/test_labels.npy')"
   ]
  },
  {
   "cell_type": "code",
   "execution_count": 7,
   "id": "865298b4-03be-4412-8e21-62015ba2e881",
   "metadata": {},
   "outputs": [
    {
     "name": "stderr",
     "output_type": "stream",
     "text": [
      "/tmp/ipykernel_217507/3839462922.py:1: FutureWarning: You are using `torch.load` with `weights_only=False` (the current default value), which uses the default pickle module implicitly. It is possible to construct malicious pickle data which will execute arbitrary code during unpickling (See https://github.com/pytorch/pytorch/blob/main/SECURITY.md#untrusted-models for more details). In a future release, the default value for `weights_only` will be flipped to `True`. This limits the functions that could be executed during unpickling. Arbitrary objects will no longer be allowed to be loaded via this mode unless they are explicitly allowlisted by the user via `torch.serialization.add_safe_globals`. We recommend you start setting `weights_only=True` for any use case where you don't have full control of the loaded file. Please open an issue on GitHub for any issues related to this experimental feature.\n",
      "  model=torch.load(model_save_path)\n"
     ]
    }
   ],
   "source": [
    "model=torch.load(model_save_path)"
   ]
  },
  {
   "cell_type": "code",
   "execution_count": 8,
   "id": "c9f6c184-22f1-44e4-9356-924bfb91c9db",
   "metadata": {},
   "outputs": [
    {
     "data": {
      "text/plain": [
       "classification_model(\n",
       "  (get_beta): get_msg(\n",
       "    (dropout): Dropout(p=0.5, inplace=False)\n",
       "    (itm_head_1): Linear(in_features=30720, out_features=1024, bias=True)\n",
       "    (itm_head_2): Linear(in_features=1024, out_features=256, bias=True)\n",
       "  )\n",
       "  (self_attention): MultiLayerSelfAttention(\n",
       "    (attention_layers): ModuleList(\n",
       "      (0-7): 8 x SelfAttention(\n",
       "        (query): Linear(in_features=256, out_features=256, bias=True)\n",
       "        (key): Linear(in_features=256, out_features=256, bias=True)\n",
       "        (value): Linear(in_features=256, out_features=256, bias=True)\n",
       "        (fc_out): Linear(in_features=256, out_features=256, bias=True)\n",
       "      )\n",
       "    )\n",
       "  )\n",
       "  (dense): Sequential(\n",
       "    (0): Linear(in_features=256, out_features=256, bias=True)\n",
       "    (1): ReLU()\n",
       "    (2): Dropout(p=0.5, inplace=False)\n",
       "    (3): Linear(in_features=256, out_features=20, bias=True)\n",
       "    (4): ReLU()\n",
       "    (5): Dropout(p=0.5, inplace=False)\n",
       "    (6): Linear(in_features=20, out_features=1, bias=True)\n",
       "    (7): Sigmoid()\n",
       "  )\n",
       ")"
      ]
     },
     "execution_count": 8,
     "metadata": {},
     "output_type": "execute_result"
    }
   ],
   "source": [
    "model.eval()"
   ]
  },
  {
   "cell_type": "code",
   "execution_count": 9,
   "id": "2b12630c-fb9a-4bb4-ba23-74889b9eee32",
   "metadata": {},
   "outputs": [],
   "source": [
    "preds=model(torch.tensor(test_cdr3,dtype=torch.float32).to(cuda)\n",
    "           )"
   ]
  },
  {
   "cell_type": "code",
   "execution_count": 10,
   "id": "30d38f20-43ef-4dfa-9d73-2af99bed76ac",
   "metadata": {},
   "outputs": [
    {
     "data": {
      "text/plain": [
       "0.9773684210526316"
      ]
     },
     "execution_count": 10,
     "metadata": {},
     "output_type": "execute_result"
    }
   ],
   "source": [
    "roc_auc_score(test_labels,preds.detach().cpu().numpy())"
   ]
  },
  {
   "cell_type": "code",
   "execution_count": null,
   "id": "c3a095b9-98d9-4955-b773-bae90c474309",
   "metadata": {},
   "outputs": [],
   "source": []
  }
 ],
 "metadata": {
  "kernelspec": {
   "display_name": "sx",
   "language": "python",
   "name": "sx"
  },
  "language_info": {
   "codemirror_mode": {
    "name": "ipython",
    "version": 3
   },
   "file_extension": ".py",
   "mimetype": "text/x-python",
   "name": "python",
   "nbconvert_exporter": "python",
   "pygments_lexer": "ipython3",
   "version": "3.9.16"
  }
 },
 "nbformat": 4,
 "nbformat_minor": 5
}

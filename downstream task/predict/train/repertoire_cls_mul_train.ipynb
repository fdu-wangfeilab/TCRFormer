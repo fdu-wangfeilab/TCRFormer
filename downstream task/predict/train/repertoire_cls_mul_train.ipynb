{
 "cells": [
  {
   "cell_type": "code",
   "execution_count": 1,
   "id": "974ffc69-fea7-43ed-a90a-81cb96e5afc6",
   "metadata": {},
   "outputs": [],
   "source": [
    "import os,sys\n",
    "b_directory = os.path.abspath(os.path.join(os.getcwd(), '..', '..', 'model'))\n",
    "sys.path.insert(0, b_directory)\n",
    "from repertoire_cls_mul import *\n",
    "import numpy as np\n",
    "import torch\n",
    "from torch import nn\n",
    "from torch.optim import Adam\n",
    "from torch.nn import functional as F\n",
    "from torch.utils.data import DataLoader, Dataset\n",
    "from sklearn.metrics import accuracy_score, precision_score, recall_score, f1_score\n",
    "from torch.utils.data import WeightedRandomSampler"
   ]
  },
  {
   "cell_type": "code",
   "execution_count": 2,
   "id": "3a732992-8036-4c87-9525-43a2e887b920",
   "metadata": {},
   "outputs": [],
   "source": [
    "class sx_Dataset(Dataset):\n",
    "    def __init__(self,data1,data2):\n",
    "        self.x1 = data1\n",
    "        self.x2 = data2\n",
    "        self.len = data1.shape[0]\n",
    " \n",
    "    def __getitem__(self, index):\n",
    "        return self.x1[index],self.x2[index]\n",
    " \n",
    "    def __len__(self):\n",
    "        return self.len\n",
    "\n",
    "\n",
    "def calculate_metrics(label, pred):\n",
    "    return [accuracy_score(label, pred),precision_score(label, pred, average='weighted', zero_division=0),\n",
    "           recall_score(label, pred, average='weighted', zero_division=0),f1_score(label, pred, average='weighted', zero_division=0),\n",
    "           precision_score(label, pred, average='macro', zero_division=0),recall_score(label, pred, average='macro', zero_division=0),\n",
    "           f1_score(label, pred, average='macro', zero_division=0)]"
   ]
  },
  {
   "cell_type": "code",
   "execution_count": 3,
   "id": "b5c6ec4d-703d-488b-946e-7980b705311d",
   "metadata": {},
   "outputs": [],
   "source": [
    "def Focal_loss(logits, targets,alpha=1, gamma=2):\n",
    "    loss = torch.nn.functional.cross_entropy(logits, targets, reduction='none')\n",
    "    pt = torch.exp(-loss)\n",
    "    loss = (alpha * (1-pt)**gamma * loss).mean()\n",
    "\n",
    "    return loss"
   ]
  },
  {
   "cell_type": "code",
   "execution_count": 4,
   "id": "824d02ba-fc05-4f95-ab48-a4df55d1a0db",
   "metadata": {},
   "outputs": [],
   "source": [
    "def cal_(train_array,train_labels,seed=3,lr=0.0001,EPOCH=130,BATCH_SIZE=64, device='cuda:0', save_path='./model.pt'):\n",
    "    torch.manual_seed(seed)\n",
    "    model=classification_model(tcr_dim=train_array.shape[-1],nums=train_array.shape[-2],class_nums=len(set(train_labels)))\n",
    "    \n",
    "    model=model.to(device)\n",
    "    optimizer = torch.optim.AdamW(model.parameters(), lr=lr)\n",
    "\n",
    "    labels = np.array(train_labels)\n",
    "    class_sample_count = np.bincount(labels)  \n",
    "    weights_per_class = 1. / class_sample_count\n",
    "    weights = weights_per_class[labels] \n",
    "    sampler = WeightedRandomSampler(weights, num_samples=len(weights), replacement=True)\n",
    "    \n",
    "    for epoch in range(EPOCH):\n",
    "        model.train()\n",
    "        train_dataloader= DataLoader(dataset=sx_Dataset(train_array,train_labels),batch_size=BATCH_SIZE,sampler=sampler,num_workers=4,drop_last=True)\n",
    "\n",
    "        for tra_step, (cdr3,label) in enumerate(train_dataloader):\n",
    "            cdr3=torch.tensor(cdr3,dtype=torch.float32)\n",
    "            cdr3=cdr3.to(device)\n",
    "            \n",
    "            label=torch.tensor(label,dtype=torch.float32)\n",
    "            label=label.to(device)\n",
    "            \n",
    "            pred = model(cdr3)\n",
    "\n",
    "            \n",
    "            loss = Focal_loss(pred,label.long())\n",
    "            \n",
    "            optimizer.zero_grad()\n",
    "            loss.requires_grad_(True)\n",
    "            loss.backward()\n",
    "            optimizer.step()\n",
    "\n",
    "    torch.save(model,'./model.pt')"
   ]
  },
  {
   "cell_type": "code",
   "execution_count": 5,
   "id": "23a62346-88d2-4787-b287-2315391d4e6f",
   "metadata": {},
   "outputs": [],
   "source": [
    "train_array=np.load('../../tmp_data/5/train_emb.npy')\n",
    "train_labels=np.load('../../tmp_data/5/train_label.npy')\n",
    "model_save_path='./model.pt'\n",
    "cuda='cuda:0'"
   ]
  },
  {
   "cell_type": "code",
   "execution_count": 6,
   "id": "7cb084a6-2590-431a-b804-66c9fc459903",
   "metadata": {},
   "outputs": [
    {
     "name": "stderr",
     "output_type": "stream",
     "text": [
      "/tmp/ipykernel_115881/2041631991.py:19: UserWarning: To copy construct from a tensor, it is recommended to use sourceTensor.clone().detach() or sourceTensor.clone().detach().requires_grad_(True), rather than torch.tensor(sourceTensor).\n",
      "  cdr3=torch.tensor(cdr3,dtype=torch.float32)\n",
      "/tmp/ipykernel_115881/2041631991.py:22: UserWarning: To copy construct from a tensor, it is recommended to use sourceTensor.clone().detach() or sourceTensor.clone().detach().requires_grad_(True), rather than torch.tensor(sourceTensor).\n",
      "  label=torch.tensor(label,dtype=torch.float32)\n"
     ]
    }
   ],
   "source": [
    "cal_(train_array,train_labels,device=cuda,save_path=model_save_path)"
   ]
  },
  {
   "cell_type": "code",
   "execution_count": 7,
   "id": "b75d88c4-1333-4edf-b1ff-0ceafef1b2d4",
   "metadata": {},
   "outputs": [],
   "source": [
    "test_array=np.load('../../tmp_data/5/test_emb.npy')\n",
    "test_labels=np.load('../../tmp_data/5/test_label.npy')"
   ]
  },
  {
   "cell_type": "code",
   "execution_count": 8,
   "id": "276da953-fa55-4592-8b5a-0131ab8ec268",
   "metadata": {},
   "outputs": [
    {
     "name": "stderr",
     "output_type": "stream",
     "text": [
      "/tmp/ipykernel_115881/3839462922.py:1: FutureWarning: You are using `torch.load` with `weights_only=False` (the current default value), which uses the default pickle module implicitly. It is possible to construct malicious pickle data which will execute arbitrary code during unpickling (See https://github.com/pytorch/pytorch/blob/main/SECURITY.md#untrusted-models for more details). In a future release, the default value for `weights_only` will be flipped to `True`. This limits the functions that could be executed during unpickling. Arbitrary objects will no longer be allowed to be loaded via this mode unless they are explicitly allowlisted by the user via `torch.serialization.add_safe_globals`. We recommend you start setting `weights_only=True` for any use case where you don't have full control of the loaded file. Please open an issue on GitHub for any issues related to this experimental feature.\n",
      "  model=torch.load(model_save_path)\n"
     ]
    }
   ],
   "source": [
    "model=torch.load(model_save_path)"
   ]
  },
  {
   "cell_type": "code",
   "execution_count": 9,
   "id": "2ed12341-d0b5-4f43-8a39-adc8ec244751",
   "metadata": {},
   "outputs": [
    {
     "data": {
      "text/plain": [
       "classification_model(\n",
       "  (get_beta): get_msg(\n",
       "    (dropout): Dropout(p=0.5, inplace=False)\n",
       "    (itm_head_1): Linear(in_features=30720, out_features=1024, bias=True)\n",
       "    (itm_head_2): Linear(in_features=1024, out_features=256, bias=True)\n",
       "  )\n",
       "  (self_attention): MultiLayerSelfAttention(\n",
       "    (attention_layers): ModuleList(\n",
       "      (0-1): 2 x SelfAttention(\n",
       "        (query): Linear(in_features=256, out_features=256, bias=True)\n",
       "        (key): Linear(in_features=256, out_features=256, bias=True)\n",
       "        (value): Linear(in_features=256, out_features=256, bias=True)\n",
       "        (fc_out): Linear(in_features=256, out_features=256, bias=True)\n",
       "      )\n",
       "    )\n",
       "  )\n",
       "  (dense): Sequential(\n",
       "    (0): Linear(in_features=256, out_features=256, bias=True)\n",
       "    (1): ReLU()\n",
       "    (2): Dropout(p=0.5, inplace=False)\n",
       "    (3): Linear(in_features=256, out_features=20, bias=True)\n",
       "    (4): ReLU()\n",
       "    (5): Dropout(p=0.5, inplace=False)\n",
       "    (6): Linear(in_features=20, out_features=8, bias=True)\n",
       "  )\n",
       ")"
      ]
     },
     "execution_count": 9,
     "metadata": {},
     "output_type": "execute_result"
    }
   ],
   "source": [
    "model.eval()"
   ]
  },
  {
   "cell_type": "code",
   "execution_count": 10,
   "id": "0c129933-a1d8-4ec2-9637-7c5b877fbade",
   "metadata": {},
   "outputs": [],
   "source": [
    "preds=model(torch.tensor(test_array,dtype=torch.float32).to(cuda))"
   ]
  },
  {
   "cell_type": "code",
   "execution_count": 11,
   "id": "4959450e-bfda-4437-a040-6c5aa8d1853e",
   "metadata": {},
   "outputs": [
    {
     "data": {
      "text/plain": [
       "[0.5047619047619047,\n",
       " 0.5444081698121447,\n",
       " 0.5047619047619047,\n",
       " 0.4785977160800954,\n",
       " 0.46846038461688116,\n",
       " 0.5184157112128982,\n",
       " 0.46463154558137265]"
      ]
     },
     "execution_count": 11,
     "metadata": {},
     "output_type": "execute_result"
    }
   ],
   "source": [
    "calculate_metrics(test_labels,np.argmax(preds.detach().cpu().numpy(),axis=1))"
   ]
  },
  {
   "cell_type": "code",
   "execution_count": null,
   "id": "64b0fe98-c678-4e5b-a5fd-f7ffe797b082",
   "metadata": {},
   "outputs": [],
   "source": []
  }
 ],
 "metadata": {
  "kernelspec": {
   "display_name": "sx",
   "language": "python",
   "name": "sx"
  },
  "language_info": {
   "codemirror_mode": {
    "name": "ipython",
    "version": 3
   },
   "file_extension": ".py",
   "mimetype": "text/x-python",
   "name": "python",
   "nbconvert_exporter": "python",
   "pygments_lexer": "ipython3",
   "version": "3.9.16"
  }
 },
 "nbformat": 4,
 "nbformat_minor": 5
}

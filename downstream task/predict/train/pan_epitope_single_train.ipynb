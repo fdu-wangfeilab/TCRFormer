{
 "cells": [
  {
   "cell_type": "code",
   "execution_count": null,
   "id": "881c97dc-b03e-4004-829c-01e08e006190",
   "metadata": {},
   "outputs": [],
   "source": [
    "import os,sys\n",
    "b_directory = os.path.abspath(os.path.join(os.getcwd(), '..', '..', 'model'))\n",
    "sys.path.insert(0, b_directory)\n",
    "from pan_epitope_single import *\n",
    "import numpy as np\n",
    "import torch\n",
    "from torch import nn\n",
    "from torch.optim import Adam\n",
    "from torch.nn import functional as F\n",
    "from torch.utils.data import DataLoader, Dataset"
   ]
  },
  {
   "cell_type": "code",
   "execution_count": null,
   "id": "3a5dfc26-ff18-4def-806d-dda84ad1238c",
   "metadata": {},
   "outputs": [],
   "source": [
    "class sx_Dataset(Dataset):\n",
    "    def __init__(self,data1,data2,data3,):\n",
    "        self.x1 = data1\n",
    "        self.x2 = data2\n",
    "        self.x3 = data3\n",
    "\n",
    "        self.len = data1.shape[0]\n",
    " \n",
    "    def __getitem__(self, index):\n",
    "        return self.x1[index],self.x2[index],self.x3[index]\n",
    " \n",
    "    def __len__(self):\n",
    "        return self.len"
   ]
  },
  {
   "cell_type": "code",
   "execution_count": null,
   "id": "6846f1bd-a514-41a9-aea5-28e5dec6c1ae",
   "metadata": {},
   "outputs": [],
   "source": [
    "def set_seed(seed):\n",
    "    torch.manual_seed(seed)\n",
    "    torch.cuda.manual_seed(seed)\n",
    "    torch.cuda.manual_seed_all(seed) \n",
    "\n",
    "    torch.backends.cudnn.deterministic = True\n",
    "    torch.backends.cudnn.benchmark = False"
   ]
  },
  {
   "cell_type": "code",
   "execution_count": null,
   "id": "ab359472-b028-4ddf-9320-598ba452d2f0",
   "metadata": {},
   "outputs": [],
   "source": [
    "class sx_Dataset(Dataset):\n",
    "    def __init__(self,data1,data2,data3,):\n",
    "        #ep emb, pos_emb,\n",
    "        self.x1 = data1\n",
    "        self.x2 = data2\n",
    "        self.x3 = data3\n",
    "\n",
    "        self.len = data1.shape[0]\n",
    " \n",
    "    def __getitem__(self, index):\n",
    "        return self.x1[index],self.x2[index],self.x3[index]\n",
    " \n",
    "    def __len__(self):\n",
    "        return self.len"
   ]
  },
  {
   "cell_type": "code",
   "execution_count": null,
   "id": "78768358-d77c-44f2-b876-044e750d8df0",
   "metadata": {},
   "outputs": [],
   "source": [
    "def cal_(beta_train_emb,ep_train_emb,train_health_tcr_emb,seed=1,lr=0.0001,weight_decay=0.02,EPOCH=200,BATCH_SIZE=64, device='cuda:1'):\n",
    "    set_seed(seed)\n",
    "    \n",
    "    model=classification_model(tcr_dim=beta_train_emb.shape[-1], pep_dim=ep_train_emb.shape[-1], \n",
    "                               )\n",
    "    model=model.to(device)\n",
    "    optimizer = torch.optim.AdamW(model.parameters(), lr=lr)\n",
    "\n",
    "    for epoch in range(EPOCH):\n",
    "        model.train()       \n",
    "        random.seed(epoch)\n",
    "\n",
    "        train_neg_nums=beta_train_emb.shape[0]\n",
    "        health_nums=random.randint(0,train_health_tcr_emb.shape[0]-train_neg_nums-1)\n",
    "        dataset = sx_Dataset(beta_train_emb,train_health_tcr_emb[health_nums:health_nums+train_neg_nums],\n",
    "                             ep_train_emb)\n",
    "\n",
    "        train_dataloader=DataLoader(dataset=dataset,batch_size=BATCH_SIZE,shuffle=True,num_workers=4,drop_last=True)\n",
    "        \n",
    "        for tra_step, (cdr3_pos,Hcdr3_pos,pep) in enumerate(train_dataloader):   \n",
    "            pep=torch.tensor(pep,dtype=torch.float32).to(device) \n",
    "            cdr3_pos=torch.tensor(cdr3_pos,dtype=torch.float32).to(device)    \n",
    "            Hcdr3_pos=torch.tensor(Hcdr3_pos,dtype=torch.float32).to(device) \n",
    "\n",
    "            pos_pred = model(cdr3_pos,pep)\n",
    "            pos_pred = pos_pred.flatten()\n",
    "            \n",
    "            health_pred = model(Hcdr3_pos,pep)\n",
    "            health_pred = health_pred.flatten()\n",
    "                  \n",
    "            pos_loss = F.binary_cross_entropy(pos_pred,torch.ones_like(pos_pred).to(device))\n",
    "            health_loss = F.binary_cross_entropy(health_pred,torch.zeros_like(health_pred).to(device))\n",
    "            \n",
    "            loss = pos_loss+health_loss\n",
    "            optimizer.zero_grad()\n",
    "            loss.requires_grad_(True)\n",
    "            loss.backward()\n",
    "            optimizer.step()\n",
    "\n",
    "        torch.save(model,'./model_'+str(epoch)+'.pt')"
   ]
  },
  {
   "cell_type": "code",
   "execution_count": null,
   "id": "91f70586-d4f3-499e-b26b-c01253f1494d",
   "metadata": {},
   "outputs": [],
   "source": [
    "beta_train_emb=np.load('./beta_train_emb.npy')\n",
    "ep_train_emb=np.load('./ep_train_emb.npy')\n",
    "train_health_tcr_emb=np.load('./train_health_tcr_emb.npy')"
   ]
  },
  {
   "cell_type": "code",
   "execution_count": null,
   "id": "a2d8a78b-be77-4f8b-84a8-c2319f856024",
   "metadata": {},
   "outputs": [],
   "source": [
    "cal_(beta_train_emb,ep_train_emb,train_health_tcr_emb)"
   ]
  }
 ],
 "metadata": {
  "kernelspec": {
   "display_name": "sx",
   "language": "python",
   "name": "sx"
  },
  "language_info": {
   "codemirror_mode": {
    "name": "ipython",
    "version": 3
   },
   "file_extension": ".py",
   "mimetype": "text/x-python",
   "name": "python",
   "nbconvert_exporter": "python",
   "pygments_lexer": "ipython3",
   "version": "3.9.16"
  }
 },
 "nbformat": 4,
 "nbformat_minor": 5
}

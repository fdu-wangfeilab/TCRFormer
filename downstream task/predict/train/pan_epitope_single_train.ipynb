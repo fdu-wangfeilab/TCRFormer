{
 "cells": [
  {
   "cell_type": "code",
   "execution_count": 1,
   "id": "881c97dc-b03e-4004-829c-01e08e006190",
   "metadata": {},
   "outputs": [],
   "source": [
    "import os,sys\n",
    "b_directory = os.path.abspath(os.path.join(os.getcwd(), '..', '..', 'model'))\n",
    "sys.path.insert(0, b_directory)\n",
    "from pan_epitope_single import *\n",
    "import numpy as np\n",
    "import pandas as pd\n",
    "import torch,random\n",
    "from torch import nn\n",
    "from torch.optim import Adam\n",
    "from torch.nn import functional as F\n",
    "from torch.utils.data import DataLoader, Dataset\n",
    "from sklearn.metrics import (\n",
    "    average_precision_score,\n",
    "    roc_auc_score\n",
    ")\n",
    "import warnings\n",
    "warnings.filterwarnings(\"ignore\")"
   ]
  },
  {
   "cell_type": "code",
   "execution_count": 2,
   "id": "3a5dfc26-ff18-4def-806d-dda84ad1238c",
   "metadata": {},
   "outputs": [],
   "source": [
    "class sx_Dataset(Dataset):\n",
    "    def __init__(self,data1,data2,data3,):\n",
    "        self.x1 = data1\n",
    "        self.x2 = data2\n",
    "        self.x3 = data3\n",
    "\n",
    "        self.len = data1.shape[0]\n",
    " \n",
    "    def __getitem__(self, index):\n",
    "        return self.x1[index],self.x2[index],self.x3[index]\n",
    " \n",
    "    def __len__(self):\n",
    "        return self.len"
   ]
  },
  {
   "cell_type": "code",
   "execution_count": 3,
   "id": "6846f1bd-a514-41a9-aea5-28e5dec6c1ae",
   "metadata": {},
   "outputs": [],
   "source": [
    "def set_seed(seed):\n",
    "    torch.manual_seed(seed)\n",
    "    torch.cuda.manual_seed(seed)\n",
    "    torch.cuda.manual_seed_all(seed) \n",
    "    torch.backends.cudnn.deterministic = True\n",
    "    torch.backends.cudnn.benchmark = False"
   ]
  },
  {
   "cell_type": "code",
   "execution_count": 4,
   "id": "ab359472-b028-4ddf-9320-598ba452d2f0",
   "metadata": {},
   "outputs": [],
   "source": [
    "class sx_Dataset(Dataset):\n",
    "    def __init__(self,data1,data2,data3,):\n",
    "        #ep emb, pos_emb,\n",
    "        self.x1 = data1\n",
    "        self.x2 = data2\n",
    "        self.x3 = data3\n",
    "\n",
    "        self.len = data1.shape[0]\n",
    " \n",
    "    def __getitem__(self, index):\n",
    "        return self.x1[index],self.x2[index],self.x3[index]\n",
    " \n",
    "    def __len__(self):\n",
    "        return self.len"
   ]
  },
  {
   "cell_type": "code",
   "execution_count": 5,
   "id": "78768358-d77c-44f2-b876-044e750d8df0",
   "metadata": {},
   "outputs": [],
   "source": [
    "def cal_(beta_train_emb,ep_train_emb,train_health_tcr_emb,seed=1,lr=0.0001,EPOCH=20,BATCH_SIZE=64,device='cuda:0',save_path='./model.pt'):\n",
    "    set_seed(seed)\n",
    "    \n",
    "    model=classification_model(tcr_dim=beta_train_emb.shape[-1], pep_dim=ep_train_emb.shape[-1], \n",
    "                               )\n",
    "    model=model.to(device)\n",
    "    optimizer = torch.optim.AdamW(model.parameters(), lr=lr)\n",
    "    train_neg_nums=beta_train_emb.shape[0]\n",
    "    \n",
    "    for epoch in range(EPOCH):\n",
    "        model.train()       \n",
    "        random.seed(epoch)\n",
    "\n",
    "        health_nums=random.randint(0,train_health_tcr_emb.shape[0]-train_neg_nums-1)\n",
    "        dataset = sx_Dataset(beta_train_emb,train_health_tcr_emb[health_nums:health_nums+train_neg_nums],\n",
    "                             ep_train_emb)\n",
    "        train_dataloader=DataLoader(dataset=dataset,batch_size=BATCH_SIZE,shuffle=True,num_workers=4,drop_last=True)\n",
    "        for tra_step, (cdr3_pos,Hcdr3_pos,pep) in enumerate(train_dataloader):   \n",
    "            pep=torch.tensor(pep,dtype=torch.float32).to(device) \n",
    "            cdr3_pos=torch.tensor(cdr3_pos,dtype=torch.float32).to(device)    \n",
    "            Hcdr3_pos=torch.tensor(Hcdr3_pos,dtype=torch.float32).to(device) \n",
    "\n",
    "            pos_pred = model(cdr3_pos,pep)\n",
    "            pos_pred = pos_pred.flatten()\n",
    "            \n",
    "            health_pred = model(Hcdr3_pos,pep)\n",
    "            health_pred = health_pred.flatten()\n",
    "                  \n",
    "            pos_loss = F.binary_cross_entropy(pos_pred,torch.ones_like(pos_pred).to(device))\n",
    "            health_loss = F.binary_cross_entropy(health_pred,torch.zeros_like(health_pred).to(device))\n",
    "            \n",
    "            loss = pos_loss+health_loss\n",
    "            optimizer.zero_grad()\n",
    "            loss.requires_grad_(True)\n",
    "            loss.backward()\n",
    "            optimizer.step()\n",
    "    torch.save(model,save_path)"
   ]
  },
  {
   "cell_type": "code",
   "execution_count": 6,
   "id": "91f70586-d4f3-499e-b26b-c01253f1494d",
   "metadata": {},
   "outputs": [],
   "source": [
    "beta_train_emb=np.load('../../tmp_data/2/train_cdr3_emb.npy')\n",
    "ep_train_emb=np.load('../../tmp_data/2/ep_train_emb.npy')\n",
    "train_health_tcr_emb=np.load('../../tmp_data/2/health_tcr_emb.npy')\n",
    "model_save_path='./model.pt'\n",
    "cuda='cuda:0'"
   ]
  },
  {
   "cell_type": "code",
   "execution_count": 7,
   "id": "a2d8a78b-be77-4f8b-84a8-c2319f856024",
   "metadata": {},
   "outputs": [],
   "source": [
    "cal_(beta_train_emb,ep_train_emb,train_health_tcr_emb,device=cuda,save_path=model_save_path)"
   ]
  },
  {
   "cell_type": "code",
   "execution_count": 8,
   "id": "d283aaf1-1ebb-43b8-a450-f2ba5c1c3462",
   "metadata": {},
   "outputs": [],
   "source": [
    "model=torch.load(model_save_path)"
   ]
  },
  {
   "cell_type": "code",
   "execution_count": 9,
   "id": "aa67687c-43ed-43b3-bc9d-a998ad422f11",
   "metadata": {},
   "outputs": [
    {
     "data": {
      "text/plain": [
       "classification_model(\n",
       "  (cdr3_linear): Linear(in_features=1024, out_features=256, bias=True)\n",
       "  (pep_linear): Linear(in_features=1024, out_features=256, bias=True)\n",
       "  (inter_layers): ModuleList(\n",
       "    (0-1): 2 x Sequential(\n",
       "      (0): Conv2d(256, 256, kernel_size=(3, 3), stride=(1, 1), padding=(1, 1))\n",
       "      (1): BatchNorm2d(256, eps=1e-05, momentum=0.1, affine=True, track_running_stats=True)\n",
       "      (2): ReLU()\n",
       "    )\n",
       "  )\n",
       "  (seqlevel_outlyer): Sequential(\n",
       "    (0): AdaptiveMaxPool2d(output_size=1)\n",
       "    (1): Flatten(start_dim=1, end_dim=-1)\n",
       "    (2): Dropout(p=0.2, inplace=False)\n",
       "    (3): Linear(in_features=256, out_features=1, bias=True)\n",
       "    (4): Sigmoid()\n",
       "  )\n",
       ")"
      ]
     },
     "execution_count": 9,
     "metadata": {},
     "output_type": "execute_result"
    }
   ],
   "source": [
    "model.eval()"
   ]
  },
  {
   "cell_type": "code",
   "execution_count": 10,
   "id": "c932dd5b-fa37-430b-a264-63e89964c5cc",
   "metadata": {},
   "outputs": [],
   "source": [
    "test_cdr3_emb=np.load('../../tmp_data/2/test_cdr3_emb.npy')\n",
    "ep_test_emb=np.load('../../tmp_data/2/ep_test_emb.npy')\n",
    "test_labels=pd.read_csv('../../tmp_data/2/test.csv')['Label'].to_numpy()"
   ]
  },
  {
   "cell_type": "code",
   "execution_count": 11,
   "id": "8973d534-9425-4614-ae97-0e049e829c04",
   "metadata": {},
   "outputs": [],
   "source": [
    "preds=model(torch.tensor(test_cdr3_emb,dtype=torch.float32).to(cuda),\n",
    "            torch.tensor(ep_test_emb,dtype=torch.float32).to(cuda))"
   ]
  },
  {
   "cell_type": "code",
   "execution_count": 12,
   "id": "b3bf8fd8-d430-49b0-9720-74fb66c3c824",
   "metadata": {},
   "outputs": [
    {
     "data": {
      "text/plain": [
       "0.9041322314049587"
      ]
     },
     "execution_count": 12,
     "metadata": {},
     "output_type": "execute_result"
    }
   ],
   "source": [
    "roc_auc_score(test_labels,preds.detach().cpu().numpy())"
   ]
  },
  {
   "cell_type": "code",
   "execution_count": null,
   "id": "385d269e-d074-41ca-bc71-9dc0819971e8",
   "metadata": {},
   "outputs": [],
   "source": []
  }
 ],
 "metadata": {
  "kernelspec": {
   "display_name": "sx",
   "language": "python",
   "name": "sx"
  },
  "language_info": {
   "codemirror_mode": {
    "name": "ipython",
    "version": 3
   },
   "file_extension": ".py",
   "mimetype": "text/x-python",
   "name": "python",
   "nbconvert_exporter": "python",
   "pygments_lexer": "ipython3",
   "version": "3.9.16"
  }
 },
 "nbformat": 4,
 "nbformat_minor": 5
}

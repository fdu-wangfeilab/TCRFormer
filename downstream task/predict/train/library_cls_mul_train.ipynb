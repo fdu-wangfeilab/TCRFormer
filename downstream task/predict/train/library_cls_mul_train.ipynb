{
 "cells": [
  {
   "cell_type": "code",
   "execution_count": 1,
   "id": "974ffc69-fea7-43ed-a90a-81cb96e5afc6",
   "metadata": {},
   "outputs": [],
   "source": [
    "import os,sys\n",
    "b_directory = os.path.abspath(os.path.join(os.getcwd(), '..', '..', 'model'))\n",
    "sys.path.insert(0, b_directory)\n",
    "from library_cls_mul import *\n",
    "import numpy as np\n",
    "import torch\n",
    "from torch import nn\n",
    "from torch.optim import Adam\n",
    "from torch.nn import functional as F\n",
    "from torch.utils.data import DataLoader, Dataset"
   ]
  },
  {
   "cell_type": "code",
   "execution_count": null,
   "id": "3a732992-8036-4c87-9525-43a2e887b920",
   "metadata": {},
   "outputs": [],
   "source": [
    "class sx_Dataset(Dataset):\n",
    "    def __init__(self,data1,data2):\n",
    "        self.x1 = data1\n",
    "        self.x2 = data2\n",
    "        self.len = data1.shape[0]\n",
    " \n",
    "    def __getitem__(self, index):\n",
    "        return self.x1[index],self.x2[index]\n",
    " \n",
    "    def __len__(self):\n",
    "        return self.len"
   ]
  },
  {
   "cell_type": "code",
   "execution_count": null,
   "id": "b5c6ec4d-703d-488b-946e-7980b705311d",
   "metadata": {},
   "outputs": [],
   "source": [
    "def Focal_loss(logits, targets,alpha=1, gamma=2):\n",
    "    loss = torch.nn.functional.cross_entropy(logits, targets, reduction='none')\n",
    "    pt = torch.exp(-loss)\n",
    "    loss = (alpha * (1-pt)**gamma * loss).mean()\n",
    "\n",
    "    return loss"
   ]
  },
  {
   "cell_type": "code",
   "execution_count": null,
   "id": "824d02ba-fc05-4f95-ab48-a4df55d1a0db",
   "metadata": {},
   "outputs": [],
   "source": [
    "def cal_(train_array,train_labels,seed=1,lr=0.0001,weight_decay=0.02,EPOCH=100,BATCH_SIZE=64, device='cuda:1'):\n",
    "    torch.manual_seed(seed)\n",
    "    model=classification_model(tcr_dim=train_array.shape[-1],nums=train_array.shape[-2],class_nums=len(set(train_labels)))\n",
    "    \n",
    "    model=model.to(device)\n",
    "    optimizer = torch.optim.AdamW(model.parameters(), lr=lr)\n",
    "\n",
    "    labels = np.array(train_labels)\n",
    "    class_sample_count = np.bincount(labels)  \n",
    "    weights_per_class = 1. / class_sample_count\n",
    "    weights = weights_per_class[labels] \n",
    "    sampler = WeightedRandomSampler(weights, num_samples=len(weights), replacement=True)\n",
    "    \n",
    "    for epoch in range(EPOCH):\n",
    "        model.train()\n",
    "        train_dataloader= DataLoader(dataset=sx_Dataset(train_array,train_labels),batch_size=BATCH_SIZE,sampler=sampler,num_workers=4,drop_last=True)\n",
    "         \n",
    "        for tra_step, (cdr3,label) in enumerate(train_dataloader):\n",
    "            cdr3=torch.tensor(cdr3,dtype=torch.float32)\n",
    "            cdr3=cdr3.to(device)\n",
    "            \n",
    "            label=torch.tensor(label,dtype=torch.float32)\n",
    "            label=label.to(device)\n",
    "            \n",
    "            pred = model(cdr3)\n",
    "            pred = pred.flatten()\n",
    "            \n",
    "            loss = F.binary_cross_entropy(pred,label)\n",
    "            \n",
    "            optimizer.zero_grad()\n",
    "            loss.requires_grad_(True)\n",
    "            loss.backward()\n",
    "            optimizer.step()\n",
    "        torch.save(model,'./model_'+str(epoch)+'.pt')"
   ]
  },
  {
   "cell_type": "code",
   "execution_count": null,
   "id": "23a62346-88d2-4787-b287-2315391d4e6f",
   "metadata": {},
   "outputs": [],
   "source": [
    "train_array=np.load('./train_array.npy')\n",
    "train_labels=np.load('./train_labels.npy')"
   ]
  },
  {
   "cell_type": "code",
   "execution_count": null,
   "id": "7cb084a6-2590-431a-b804-66c9fc459903",
   "metadata": {},
   "outputs": [],
   "source": [
    "cal_(train_array,train_labels)"
   ]
  }
 ],
 "metadata": {
  "kernelspec": {
   "display_name": "sx",
   "language": "python",
   "name": "sx"
  },
  "language_info": {
   "codemirror_mode": {
    "name": "ipython",
    "version": 3
   },
   "file_extension": ".py",
   "mimetype": "text/x-python",
   "name": "python",
   "nbconvert_exporter": "python",
   "pygments_lexer": "ipython3",
   "version": "3.9.16"
  }
 },
 "nbformat": 4,
 "nbformat_minor": 5
}

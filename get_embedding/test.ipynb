{
 "cells": [
  {
   "cell_type": "code",
   "execution_count": null,
   "id": "c6fec342",
   "metadata": {},
   "outputs": [],
   "source": [
    "from get_TCRseq_emb import *"
   ]
  },
  {
   "cell_type": "code",
   "execution_count": null,
   "id": "7e4225b6-3fd5-4eec-9ed0-3ede21856e6f",
   "metadata": {},
   "outputs": [],
   "source": [
    "get_betaseq_emb('/home/taoyuhao/work/TCR_other/binding/my_test/test.csv',\n",
    "                '/home/taoyuhao/work/TCR_Bert_plus/result/panpep/tmp_data_1/beta_cdr3_test.npy','CDR3.beta.aa','V.beta','V.beta','J.beta',\n",
    "               delimiter=',',device='cuda:1')"
   ]
  },
  {
   "cell_type": "code",
   "execution_count": null,
   "id": "a3dfd3ac-537b-4f44-a48d-75ab74a4a2bb",
   "metadata": {},
   "outputs": [],
   "source": [
    "get_alphaseq_emb('/home/taoyuhao/work/TCR_other/binding/my_test/test.csv',\n",
    "                 '/home/taoyuhao/work/TCR_Bert_plus/result/panpep/tmp_data_1/alpha_cdr3_test.npy','CDR3.alpha.aa','V.alpha','J.alpha',delimiter=',',device='cuda:1')"
   ]
  },
  {
   "cell_type": "code",
   "execution_count": null,
   "id": "83f1f060",
   "metadata": {},
   "outputs": [],
   "source": [
    "from get_TCRstru_emb import *"
   ]
  },
  {
   "cell_type": "code",
   "execution_count": null,
   "id": "78f2056d",
   "metadata": {},
   "outputs": [],
   "source": [
    "get_betastru_emb('/mnt/sdb/training_data/ATDALMTGF.txt','./aa.npy',)\n",
    "get_alphastru_emb('/mnt/sdb/training_data/ATDALMTGF.txt','./aa.npy',)"
   ]
  },
  {
   "cell_type": "code",
   "execution_count": null,
   "id": "05a8e1a7",
   "metadata": {},
   "outputs": [],
   "source": [
    "from get_ep import *\n",
    "import pandas as pd"
   ]
  },
  {
   "cell_type": "code",
   "execution_count": null,
   "id": "81bc3f78",
   "metadata": {},
   "outputs": [],
   "source": [
    "Pdata=pd.read_csv('/home/taoyuhao/work/TCR_other/binding/my_test/train.csv')['Epitope.peptide'].to_numpy()"
   ]
  },
  {
   "cell_type": "code",
   "execution_count": null,
   "id": "dd681072",
   "metadata": {},
   "outputs": [],
   "source": [
    "data=get_ep_emb(Pdata)"
   ]
  },
  {
   "cell_type": "code",
   "execution_count": null,
   "id": "a54a8c56-fab4-4637-adeb-6f879fe31b29",
   "metadata": {},
   "outputs": [],
   "source": [
    "np.save('/home/taoyuhao/work/TCR_Bert_plus/result/panpep/tmp_data_1/train_pep.npy',data.astype(np.float16))"
   ]
  }
 ],
 "metadata": {
  "kernelspec": {
   "display_name": "sx",
   "language": "python",
   "name": "sx"
  },
  "language_info": {
   "codemirror_mode": {
    "name": "ipython",
    "version": 3
   },
   "file_extension": ".py",
   "mimetype": "text/x-python",
   "name": "python",
   "nbconvert_exporter": "python",
   "pygments_lexer": "ipython3",
   "version": "3.9.16"
  }
 },
 "nbformat": 4,
 "nbformat_minor": 5
}

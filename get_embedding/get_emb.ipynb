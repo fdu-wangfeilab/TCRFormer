{
 "cells": [
  {
   "cell_type": "code",
   "execution_count": 1,
   "id": "cec738d1-669c-4a5d-8193-b72bf27a5b6e",
   "metadata": {},
   "outputs": [],
   "source": [
    "from get_TCRseq_emb import *"
   ]
  },
  {
   "cell_type": "code",
   "execution_count": 2,
   "id": "f67c726d-104b-43da-9fcb-f3741e4addaa",
   "metadata": {},
   "outputs": [],
   "source": [
    "#Please make sure that model_with_beta.pt and model_with_alpha.pt are already in the model_save directory before use.\n",
    "#If the data is missing the relevant gene, you can use another column name from the dataset instead. \n",
    "#For example, if the D gene is missing, you can set d_name to the column name of the V gene."
   ]
  },
  {
   "cell_type": "code",
   "execution_count": 3,
   "id": "4cef44c0-9e5f-4d05-b711-805a3a422852",
   "metadata": {},
   "outputs": [],
   "source": [
    "read_path='./test.csv'\n",
    "save_path='./beta_cdr3.npy'\n",
    "\n",
    "cdr3_name='CDR3.beta.aa'\n",
    "v_name='V.beta'\n",
    "d_name='D.beta' \n",
    "j_name='J.beta'\n",
    "delimiter=','\n",
    "device='cuda:1'"
   ]
  },
  {
   "cell_type": "code",
   "execution_count": 4,
   "id": "7d6703ec-a6c0-4614-b413-b4c8548ff4b8",
   "metadata": {},
   "outputs": [],
   "source": [
    "get_betaseq_emb(read_path=read_path,\n",
    "                save_path=save_path,\n",
    "                cdr3_name=cdr3_name,\n",
    "                v_name=v_name,\n",
    "                d_name=d_name,\n",
    "                j_name=j_name,\n",
    "               delimiter=delimiter,\n",
    "                device=device)"
   ]
  },
  {
   "cell_type": "code",
   "execution_count": 5,
   "id": "7aab0656-1b7a-4ce3-93d7-c62d5781117e",
   "metadata": {},
   "outputs": [],
   "source": [
    "read_path='./test.csv'\n",
    "save_path='./alpha_cdr3.npy'\n",
    "\n",
    "cdr3_name='CDR3.alpha.aa'\n",
    "v_name='V.beta'\n",
    "j_name='J.beta'\n",
    "delimiter=','\n",
    "device='cuda:1'"
   ]
  },
  {
   "cell_type": "code",
   "execution_count": 6,
   "id": "b722590e-cd91-4ff8-9dac-1dfa8860629d",
   "metadata": {},
   "outputs": [],
   "source": [
    "get_alphaseq_emb(read_path=read_path,\n",
    "                save_path=save_path,\n",
    "                cdr3_name=cdr3_name,\n",
    "                v_name=v_name,\n",
    "                j_name=j_name,\n",
    "               delimiter=delimiter,\n",
    "                device=device)"
   ]
  },
  {
   "cell_type": "code",
   "execution_count": null,
   "id": "72edcff6-5a06-4669-9785-da4e88a19707",
   "metadata": {},
   "outputs": [],
   "source": [
    "#Please make sure that IgFold is installed before use."
   ]
  },
  {
   "cell_type": "code",
   "execution_count": 7,
   "id": "88b171f6-b8db-447e-bb5b-d5d2bab6fe12",
   "metadata": {},
   "outputs": [],
   "source": [
    "from get_TCRstru_emb import *"
   ]
  },
  {
   "cell_type": "code",
   "execution_count": 8,
   "id": "9f9eeb36-1757-406f-a40d-e9f208198509",
   "metadata": {},
   "outputs": [],
   "source": [
    "read_path='./test.csv'\n",
    "save_path='./beta_cdr3_st.npy'\n",
    "cdr3_name='CDR3.beta.aa'\n",
    "delimiter=','"
   ]
  },
  {
   "cell_type": "code",
   "execution_count": 9,
   "id": "55117b2f-1279-4d4f-b03a-8a0e0b0fb562",
   "metadata": {},
   "outputs": [
    {
     "name": "stdout",
     "output_type": "stream",
     "text": [
      "\n",
      "    The code, data, and weights for this work are made available for non-commercial use \n",
      "    (including at commercial entities) under the terms of the JHU Academic Software License \n",
      "    Agreement. For commercial inquiries, please contact awichma2[at]jhu.edu.\n",
      "    License: https://github.com/Graylab/IgFold/blob/main/LICENSE.md\n",
      "    \n",
      "Loading 4 IgFold models...\n",
      "Using device: cuda:0\n",
      "Loading /home/taoyuhao/anaconda3/envs/old_sx/lib/python3.9/site-packages/igfold/trained_models/IgFold/igfold_1.ckpt...\n",
      "Loading /home/taoyuhao/anaconda3/envs/old_sx/lib/python3.9/site-packages/igfold/trained_models/IgFold/igfold_2.ckpt...\n",
      "Loading /home/taoyuhao/anaconda3/envs/old_sx/lib/python3.9/site-packages/igfold/trained_models/IgFold/igfold_3.ckpt...\n",
      "Loading /home/taoyuhao/anaconda3/envs/old_sx/lib/python3.9/site-packages/igfold/trained_models/IgFold/igfold_5.ckpt...\n",
      "Successfully loaded 4 IgFold models.\n",
      "Loaded AntiBERTy model.\n",
      "Completed embedding in 0.14 seconds.\n",
      "Completed embedding in 0.03 seconds.\n",
      "Completed embedding in 0.02 seconds.\n",
      "Completed embedding in 0.02 seconds.\n",
      "Completed embedding in 0.02 seconds.\n",
      "Completed embedding in 0.02 seconds.\n",
      "Completed embedding in 0.02 seconds.\n",
      "Completed embedding in 0.02 seconds.\n",
      "Completed embedding in 0.02 seconds.\n"
     ]
    }
   ],
   "source": [
    "get_betastru_emb(read_path=read_path,\n",
    "                 save_path=save_path,\n",
    "                 cdr3_name=cdr3_name,\n",
    "                 delimiter=delimiter,\n",
    "                )"
   ]
  },
  {
   "cell_type": "code",
   "execution_count": 10,
   "id": "572aa84d-ba59-4717-81d3-c7f3e75eb205",
   "metadata": {},
   "outputs": [],
   "source": [
    "read_path='./test.csv'\n",
    "save_path='./alpha_cdr3_st.npy'\n",
    "cdr3_name='CDR3.alpha.aa'\n",
    "delimiter=','"
   ]
  },
  {
   "cell_type": "code",
   "execution_count": 11,
   "id": "f2536570-f979-423a-b744-0ad789a03a10",
   "metadata": {},
   "outputs": [
    {
     "name": "stdout",
     "output_type": "stream",
     "text": [
      "\n",
      "    The code, data, and weights for this work are made available for non-commercial use \n",
      "    (including at commercial entities) under the terms of the JHU Academic Software License \n",
      "    Agreement. For commercial inquiries, please contact awichma2[at]jhu.edu.\n",
      "    License: https://github.com/Graylab/IgFold/blob/main/LICENSE.md\n",
      "    \n",
      "Loading 4 IgFold models...\n",
      "Using device: cuda:0\n",
      "Loading /home/taoyuhao/anaconda3/envs/old_sx/lib/python3.9/site-packages/igfold/trained_models/IgFold/igfold_1.ckpt...\n",
      "Loading /home/taoyuhao/anaconda3/envs/old_sx/lib/python3.9/site-packages/igfold/trained_models/IgFold/igfold_2.ckpt...\n",
      "Loading /home/taoyuhao/anaconda3/envs/old_sx/lib/python3.9/site-packages/igfold/trained_models/IgFold/igfold_3.ckpt...\n",
      "Loading /home/taoyuhao/anaconda3/envs/old_sx/lib/python3.9/site-packages/igfold/trained_models/IgFold/igfold_5.ckpt...\n",
      "Successfully loaded 4 IgFold models.\n",
      "Loaded AntiBERTy model.\n",
      "Completed embedding in 0.03 seconds.\n",
      "Completed embedding in 0.02 seconds.\n",
      "Completed embedding in 0.02 seconds.\n",
      "Completed embedding in 0.02 seconds.\n",
      "Completed embedding in 0.02 seconds.\n",
      "Completed embedding in 0.02 seconds.\n",
      "Completed embedding in 0.02 seconds.\n",
      "Completed embedding in 0.02 seconds.\n",
      "Completed embedding in 0.02 seconds.\n"
     ]
    }
   ],
   "source": [
    "get_alphastru_emb(read_path=read_path,\n",
    "                 save_path=save_path,\n",
    "                 cdr3_name=cdr3_name,\n",
    "                 delimiter=delimiter,)"
   ]
  },
  {
   "cell_type": "code",
   "execution_count": null,
   "id": "dfb9dd2b-da0a-4e21-af5d-312d7d8b9bb6",
   "metadata": {},
   "outputs": [],
   "source": [
    "# Before use, please modify the pretrain_path parameter in the get_ep_emb function of get_ep.py; it should point to the path where your T5 model is stored."
   ]
  },
  {
   "cell_type": "code",
   "execution_count": 12,
   "id": "200c3bcb-3d0c-43b9-b5b9-dbdd614c5a5c",
   "metadata": {},
   "outputs": [],
   "source": [
    "from get_ep import *\n",
    "import pandas as pd\n",
    "import numpy as np\n"
   ]
  },
  {
   "cell_type": "code",
   "execution_count": 13,
   "id": "b0608080-e30f-4355-bf4f-61442b71ff6f",
   "metadata": {},
   "outputs": [],
   "source": [
    "read_path='./test.csv'\n",
    "epitope_name='Epitope.peptide'\n",
    "save_path='./epitope.npy'"
   ]
  },
  {
   "cell_type": "code",
   "execution_count": 14,
   "id": "f01a6830-815e-4d50-a6df-b61a9037e56e",
   "metadata": {},
   "outputs": [
    {
     "name": "stderr",
     "output_type": "stream",
     "text": [
      "loading ep embedding: 100%|██████████████████████████████████████████████████████████████████████████████| 9/9 [00:00<00:00, 17590.28it/s]\n"
     ]
    }
   ],
   "source": [
    "pdata=get_ep_emb(pd.read_csv(read_path)[epitope_name].to_numpy())\n",
    "np.save(save_path,pdata)"
   ]
  },
  {
   "cell_type": "code",
   "execution_count": null,
   "id": "220d5818-0190-4e8a-bd5e-ddb3a3144aba",
   "metadata": {},
   "outputs": [],
   "source": []
  }
 ],
 "metadata": {
  "kernelspec": {
   "display_name": "old_sx",
   "language": "python",
   "name": "old_sx"
  },
  "language_info": {
   "codemirror_mode": {
    "name": "ipython",
    "version": 3
   },
   "file_extension": ".py",
   "mimetype": "text/x-python",
   "name": "python",
   "nbconvert_exporter": "python",
   "pygments_lexer": "ipython3",
   "version": "3.9.0"
  }
 },
 "nbformat": 4,
 "nbformat_minor": 5
}

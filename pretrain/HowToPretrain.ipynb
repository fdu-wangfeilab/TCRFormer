{
 "cells": [
  {
   "cell_type": "code",
   "execution_count": null,
   "id": "33bdadef",
   "metadata": {},
   "outputs": [],
   "source": [
    "import sys\n",
    "import os\n",
    "b_directory = os.path.abspath(os.path.join(os.getcwd(), '..', 'model'))\n",
    "sys.path.insert(0, b_directory)"
   ]
  },
  {
   "cell_type": "code",
   "execution_count": null,
   "id": "6f83235b",
   "metadata": {},
   "outputs": [],
   "source": [
    "from pretrain_model import *\n",
    "import numpy as np\n",
    "import warnings\n",
    "warnings.filterwarnings(\"ignore\")"
   ]
  },
  {
   "cell_type": "code",
   "execution_count": null,
   "id": "a1ead44b",
   "metadata": {},
   "outputs": [],
   "source": [
    "#load data\n",
    "train_data=np.load('/data/tmp/pre_data/beta_data.npy')\n",
    "v_data=np.load('/data/tmp/pre_data/beta_v_data.npy').reshape(-1,1)\n",
    "d_data=np.load('/data/tmp/pre_data/beta_d_data.npy').reshape(-1,1)\n",
    "j_data=np.load('/data/tmp/pre_data/beta_j_data.npy').reshape(-1,1)\n"
   ]
  },
  {
   "cell_type": "code",
   "execution_count": null,
   "id": "f4c3bce6",
   "metadata": {},
   "outputs": [],
   "source": [
    "model_save_path='/data/tmp/model_with_adj_25.pt' \n",
    "loss_save_path='/data/tmp/other_loss/'"
   ]
  },
  {
   "cell_type": "code",
   "execution_count": null,
   "id": "8b3957ad",
   "metadata": {},
   "outputs": [],
   "source": [
    "train(train_data,v_data,d_data,j_data,model_save_path,loss_save_path)"
   ]
  },
  {
   "cell_type": "code",
   "execution_count": null,
   "id": "260e6e01",
   "metadata": {},
   "outputs": [],
   "source": []
  }
 ],
 "metadata": {
  "kernelspec": {
   "display_name": "sx",
   "language": "python",
   "name": "sx"
  },
  "language_info": {
   "codemirror_mode": {
    "name": "ipython",
    "version": 3
   },
   "file_extension": ".py",
   "mimetype": "text/x-python",
   "name": "python",
   "nbconvert_exporter": "python",
   "pygments_lexer": "ipython3",
   "version": "3.9.16"
  }
 },
 "nbformat": 4,
 "nbformat_minor": 5
}
